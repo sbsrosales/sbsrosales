{
 "cells": [
  {
   "cell_type": "code",
   "execution_count": 414,
   "id": "fd17bd0a",
   "metadata": {},
   "outputs": [],
   "source": [
    "## Utility\n",
    "import os\n",
    "import numpy as np\n",
    "import pandas as pd\n",
    "import seaborn as sn\n",
    "import plotly.express as px\n",
    "import matplotlib.pyplot as plt"
   ]
  },
  {
   "cell_type": "code",
   "execution_count": 415,
   "id": "4b07df5a",
   "metadata": {},
   "outputs": [],
   "source": [
    "## Scikit Learn\n",
    "from sklearn.model_selection import train_test_split\n",
    "from sklearn.impute import KNNImputer\n",
    "from sklearn.ensemble import IsolationForest\n",
    "from sklearn.preprocessing import OrdinalEncoder\n",
    "from sklearn.metrics import mean_squared_error\n",
    "from sklearn.metrics import make_scorer, accuracy_score, precision_score, recall_score, f1_score\n",
    "from sklearn.model_selection import cross_val_score\n",
    "from sklearn.svm import SVR\n",
    "\n",
    "##Models\n",
    "from sklearn.linear_model import LinearRegression\n",
    "from catboost import CatBoostRegressor\n",
    "from sklearn.linear_model import SGDRegressor\n",
    "from sklearn.ensemble import GradientBoostingRegressor\n",
    "from sklearn.linear_model import BayesianRidge\n",
    "from sklearn.linear_model import ElasticNet\n",
    "from sklearn.kernel_ridge import KernelRidge\n",
    "from sklearn.linear_model import SGDRegressor\n",
    "from sklearn.ensemble import RandomForestRegressor\n",
    "from sklearn.model_selection import GridSearchCV\n",
    "from sklearn.model_selection import RandomizedSearchCV"
   ]
  },
  {
   "cell_type": "code",
   "execution_count": 416,
   "id": "c47ed536",
   "metadata": {},
   "outputs": [],
   "source": [
    "## Change directory\n",
    "path = r\"C:\\Users\\sbsro\\Documents\\ML_Projects\\MLB Pitching\"\n",
    "os.chdir(path)"
   ]
  },
  {
   "cell_type": "code",
   "execution_count": 417,
   "id": "b31e4798",
   "metadata": {},
   "outputs": [],
   "source": [
    "## Load Data\n",
    "df = pd.read_csv('kbopitchingdata.csv')"
   ]
  },
  {
   "cell_type": "code",
   "execution_count": 418,
   "id": "3079f24c",
   "metadata": {},
   "outputs": [],
   "source": [
    "## Pandas Options\n",
    "pd.set_option('display.max_columns', None)\n",
    "pd.set_option('display.max_rows', 100)"
   ]
  },
  {
   "cell_type": "code",
   "execution_count": 419,
   "id": "783a080b",
   "metadata": {},
   "outputs": [
    {
     "data": {
      "text/html": [
       "<div>\n",
       "<style scoped>\n",
       "    .dataframe tbody tr th:only-of-type {\n",
       "        vertical-align: middle;\n",
       "    }\n",
       "\n",
       "    .dataframe tbody tr th {\n",
       "        vertical-align: top;\n",
       "    }\n",
       "\n",
       "    .dataframe thead th {\n",
       "        text-align: right;\n",
       "    }\n",
       "</style>\n",
       "<table border=\"1\" class=\"dataframe\">\n",
       "  <thead>\n",
       "    <tr style=\"text-align: right;\">\n",
       "      <th></th>\n",
       "      <th>id</th>\n",
       "      <th>year</th>\n",
       "      <th>team</th>\n",
       "      <th>average_age</th>\n",
       "      <th>runs_per_game</th>\n",
       "      <th>wins</th>\n",
       "      <th>losses</th>\n",
       "      <th>win_loss_percentage</th>\n",
       "      <th>ERA</th>\n",
       "      <th>run_average_9</th>\n",
       "      <th>games</th>\n",
       "      <th>games_started</th>\n",
       "      <th>games_finished</th>\n",
       "      <th>complete_game</th>\n",
       "      <th>shutouts</th>\n",
       "      <th>saves</th>\n",
       "      <th>innings_pitched</th>\n",
       "      <th>hits</th>\n",
       "      <th>runs</th>\n",
       "      <th>earned_runs</th>\n",
       "      <th>home_runs</th>\n",
       "      <th>walks</th>\n",
       "      <th>intentional_walks</th>\n",
       "      <th>strikeouts</th>\n",
       "      <th>hit_batter</th>\n",
       "      <th>balks</th>\n",
       "      <th>wild_pitches</th>\n",
       "      <th>batters_faced</th>\n",
       "      <th>WHIP</th>\n",
       "      <th>hits_9</th>\n",
       "      <th>homeruns_9</th>\n",
       "      <th>walks_9</th>\n",
       "      <th>strikeouts_9</th>\n",
       "      <th>strikeout_walk</th>\n",
       "    </tr>\n",
       "  </thead>\n",
       "  <tbody>\n",
       "    <tr>\n",
       "      <th>0</th>\n",
       "      <td>1</td>\n",
       "      <td>2021</td>\n",
       "      <td>LG Twins</td>\n",
       "      <td>26.3</td>\n",
       "      <td>3.90</td>\n",
       "      <td>72</td>\n",
       "      <td>57</td>\n",
       "      <td>0.558</td>\n",
       "      <td>3.57</td>\n",
       "      <td>3.96</td>\n",
       "      <td>143</td>\n",
       "      <td>143.0</td>\n",
       "      <td>143.0</td>\n",
       "      <td>0</td>\n",
       "      <td>18</td>\n",
       "      <td>32</td>\n",
       "      <td>1264.1</td>\n",
       "      <td>1117</td>\n",
       "      <td>557</td>\n",
       "      <td>501</td>\n",
       "      <td>79</td>\n",
       "      <td>542</td>\n",
       "      <td>17.0</td>\n",
       "      <td>1062</td>\n",
       "      <td>97</td>\n",
       "      <td>5.0</td>\n",
       "      <td>43.0</td>\n",
       "      <td>5416</td>\n",
       "      <td>1.312</td>\n",
       "      <td>8.0</td>\n",
       "      <td>0.6</td>\n",
       "      <td>3.9</td>\n",
       "      <td>7.6</td>\n",
       "      <td>1.96</td>\n",
       "    </tr>\n",
       "    <tr>\n",
       "      <th>1</th>\n",
       "      <td>2</td>\n",
       "      <td>2021</td>\n",
       "      <td>KT Wiz</td>\n",
       "      <td>28.4</td>\n",
       "      <td>4.06</td>\n",
       "      <td>75</td>\n",
       "      <td>59</td>\n",
       "      <td>0.560</td>\n",
       "      <td>3.67</td>\n",
       "      <td>4.17</td>\n",
       "      <td>143</td>\n",
       "      <td>143.0</td>\n",
       "      <td>141.0</td>\n",
       "      <td>2</td>\n",
       "      <td>6</td>\n",
       "      <td>33</td>\n",
       "      <td>1255.0</td>\n",
       "      <td>1166</td>\n",
       "      <td>581</td>\n",
       "      <td>512</td>\n",
       "      <td>85</td>\n",
       "      <td>486</td>\n",
       "      <td>18.0</td>\n",
       "      <td>1051</td>\n",
       "      <td>42</td>\n",
       "      <td>1.0</td>\n",
       "      <td>56.0</td>\n",
       "      <td>5359</td>\n",
       "      <td>1.316</td>\n",
       "      <td>8.4</td>\n",
       "      <td>0.6</td>\n",
       "      <td>3.5</td>\n",
       "      <td>7.5</td>\n",
       "      <td>2.16</td>\n",
       "    </tr>\n",
       "    <tr>\n",
       "      <th>2</th>\n",
       "      <td>3</td>\n",
       "      <td>2021</td>\n",
       "      <td>Doosan Bears</td>\n",
       "      <td>27.5</td>\n",
       "      <td>4.57</td>\n",
       "      <td>70</td>\n",
       "      <td>65</td>\n",
       "      <td>0.519</td>\n",
       "      <td>4.28</td>\n",
       "      <td>4.66</td>\n",
       "      <td>143</td>\n",
       "      <td>143.0</td>\n",
       "      <td>141.0</td>\n",
       "      <td>2</td>\n",
       "      <td>10</td>\n",
       "      <td>27</td>\n",
       "      <td>1260.1</td>\n",
       "      <td>1288</td>\n",
       "      <td>653</td>\n",
       "      <td>599</td>\n",
       "      <td>104</td>\n",
       "      <td>586</td>\n",
       "      <td>16.0</td>\n",
       "      <td>1037</td>\n",
       "      <td>73</td>\n",
       "      <td>7.0</td>\n",
       "      <td>51.0</td>\n",
       "      <td>5596</td>\n",
       "      <td>1.487</td>\n",
       "      <td>9.2</td>\n",
       "      <td>0.7</td>\n",
       "      <td>4.2</td>\n",
       "      <td>7.4</td>\n",
       "      <td>1.77</td>\n",
       "    </tr>\n",
       "    <tr>\n",
       "      <th>3</th>\n",
       "      <td>4</td>\n",
       "      <td>2021</td>\n",
       "      <td>Samsung Lions</td>\n",
       "      <td>28.8</td>\n",
       "      <td>4.57</td>\n",
       "      <td>75</td>\n",
       "      <td>59</td>\n",
       "      <td>0.560</td>\n",
       "      <td>4.29</td>\n",
       "      <td>4.70</td>\n",
       "      <td>143</td>\n",
       "      <td>143.0</td>\n",
       "      <td>141.0</td>\n",
       "      <td>2</td>\n",
       "      <td>14</td>\n",
       "      <td>46</td>\n",
       "      <td>1250.0</td>\n",
       "      <td>1287</td>\n",
       "      <td>653</td>\n",
       "      <td>596</td>\n",
       "      <td>129</td>\n",
       "      <td>526</td>\n",
       "      <td>13.0</td>\n",
       "      <td>1031</td>\n",
       "      <td>51</td>\n",
       "      <td>3.0</td>\n",
       "      <td>56.0</td>\n",
       "      <td>5496</td>\n",
       "      <td>1.450</td>\n",
       "      <td>9.3</td>\n",
       "      <td>0.9</td>\n",
       "      <td>3.8</td>\n",
       "      <td>7.4</td>\n",
       "      <td>1.96</td>\n",
       "    </tr>\n",
       "    <tr>\n",
       "      <th>4</th>\n",
       "      <td>5</td>\n",
       "      <td>2021</td>\n",
       "      <td>NC Dinos</td>\n",
       "      <td>27.7</td>\n",
       "      <td>4.80</td>\n",
       "      <td>67</td>\n",
       "      <td>67</td>\n",
       "      <td>0.500</td>\n",
       "      <td>4.50</td>\n",
       "      <td>4.95</td>\n",
       "      <td>143</td>\n",
       "      <td>143.0</td>\n",
       "      <td>140.0</td>\n",
       "      <td>3</td>\n",
       "      <td>10</td>\n",
       "      <td>33</td>\n",
       "      <td>1247.2</td>\n",
       "      <td>1256</td>\n",
       "      <td>686</td>\n",
       "      <td>624</td>\n",
       "      <td>122</td>\n",
       "      <td>585</td>\n",
       "      <td>14.0</td>\n",
       "      <td>1046</td>\n",
       "      <td>77</td>\n",
       "      <td>8.0</td>\n",
       "      <td>74.0</td>\n",
       "      <td>5575</td>\n",
       "      <td>1.476</td>\n",
       "      <td>9.1</td>\n",
       "      <td>0.9</td>\n",
       "      <td>4.2</td>\n",
       "      <td>7.5</td>\n",
       "      <td>1.79</td>\n",
       "    </tr>\n",
       "  </tbody>\n",
       "</table>\n",
       "</div>"
      ],
      "text/plain": [
       "   id  year           team  average_age  runs_per_game  wins  losses  \\\n",
       "0   1  2021       LG Twins         26.3           3.90    72      57   \n",
       "1   2  2021         KT Wiz         28.4           4.06    75      59   \n",
       "2   3  2021   Doosan Bears         27.5           4.57    70      65   \n",
       "3   4  2021  Samsung Lions         28.8           4.57    75      59   \n",
       "4   5  2021       NC Dinos         27.7           4.80    67      67   \n",
       "\n",
       "   win_loss_percentage   ERA  run_average_9  games  games_started  \\\n",
       "0                0.558  3.57           3.96    143          143.0   \n",
       "1                0.560  3.67           4.17    143          143.0   \n",
       "2                0.519  4.28           4.66    143          143.0   \n",
       "3                0.560  4.29           4.70    143          143.0   \n",
       "4                0.500  4.50           4.95    143          143.0   \n",
       "\n",
       "   games_finished  complete_game  shutouts  saves  innings_pitched  hits  \\\n",
       "0           143.0              0        18     32           1264.1  1117   \n",
       "1           141.0              2         6     33           1255.0  1166   \n",
       "2           141.0              2        10     27           1260.1  1288   \n",
       "3           141.0              2        14     46           1250.0  1287   \n",
       "4           140.0              3        10     33           1247.2  1256   \n",
       "\n",
       "   runs  earned_runs  home_runs  walks  intentional_walks  strikeouts  \\\n",
       "0   557          501         79    542               17.0        1062   \n",
       "1   581          512         85    486               18.0        1051   \n",
       "2   653          599        104    586               16.0        1037   \n",
       "3   653          596        129    526               13.0        1031   \n",
       "4   686          624        122    585               14.0        1046   \n",
       "\n",
       "   hit_batter  balks  wild_pitches  batters_faced   WHIP  hits_9  homeruns_9  \\\n",
       "0          97    5.0          43.0           5416  1.312     8.0         0.6   \n",
       "1          42    1.0          56.0           5359  1.316     8.4         0.6   \n",
       "2          73    7.0          51.0           5596  1.487     9.2         0.7   \n",
       "3          51    3.0          56.0           5496  1.450     9.3         0.9   \n",
       "4          77    8.0          74.0           5575  1.476     9.1         0.9   \n",
       "\n",
       "   walks_9  strikeouts_9  strikeout_walk  \n",
       "0      3.9           7.6            1.96  \n",
       "1      3.5           7.5            2.16  \n",
       "2      4.2           7.4            1.77  \n",
       "3      3.8           7.4            1.96  \n",
       "4      4.2           7.5            1.79  "
      ]
     },
     "execution_count": 419,
     "metadata": {},
     "output_type": "execute_result"
    }
   ],
   "source": [
    "df.head()"
   ]
  },
  {
   "cell_type": "code",
   "execution_count": 420,
   "id": "e5606e6e",
   "metadata": {},
   "outputs": [],
   "source": [
    "## Add Win Percentage to Dataset\n",
    "df['Win_pct'] = df['wins']/df['games']"
   ]
  },
  {
   "cell_type": "code",
   "execution_count": 421,
   "id": "3254eee2",
   "metadata": {},
   "outputs": [
    {
     "data": {
      "text/html": [
       "<div>\n",
       "<style scoped>\n",
       "    .dataframe tbody tr th:only-of-type {\n",
       "        vertical-align: middle;\n",
       "    }\n",
       "\n",
       "    .dataframe tbody tr th {\n",
       "        vertical-align: top;\n",
       "    }\n",
       "\n",
       "    .dataframe thead th {\n",
       "        text-align: right;\n",
       "    }\n",
       "</style>\n",
       "<table border=\"1\" class=\"dataframe\">\n",
       "  <thead>\n",
       "    <tr style=\"text-align: right;\">\n",
       "      <th></th>\n",
       "      <th>id</th>\n",
       "      <th>year</th>\n",
       "      <th>team</th>\n",
       "      <th>average_age</th>\n",
       "      <th>runs_per_game</th>\n",
       "      <th>wins</th>\n",
       "      <th>losses</th>\n",
       "      <th>win_loss_percentage</th>\n",
       "      <th>ERA</th>\n",
       "      <th>run_average_9</th>\n",
       "      <th>games</th>\n",
       "      <th>games_started</th>\n",
       "      <th>games_finished</th>\n",
       "      <th>complete_game</th>\n",
       "      <th>shutouts</th>\n",
       "      <th>saves</th>\n",
       "      <th>innings_pitched</th>\n",
       "      <th>hits</th>\n",
       "      <th>runs</th>\n",
       "      <th>earned_runs</th>\n",
       "      <th>home_runs</th>\n",
       "      <th>walks</th>\n",
       "      <th>intentional_walks</th>\n",
       "      <th>strikeouts</th>\n",
       "      <th>hit_batter</th>\n",
       "      <th>balks</th>\n",
       "      <th>wild_pitches</th>\n",
       "      <th>batters_faced</th>\n",
       "      <th>WHIP</th>\n",
       "      <th>hits_9</th>\n",
       "      <th>homeruns_9</th>\n",
       "      <th>walks_9</th>\n",
       "      <th>strikeouts_9</th>\n",
       "      <th>strikeout_walk</th>\n",
       "      <th>Win_pct</th>\n",
       "    </tr>\n",
       "  </thead>\n",
       "  <tbody>\n",
       "    <tr>\n",
       "      <th>0</th>\n",
       "      <td>1</td>\n",
       "      <td>2021</td>\n",
       "      <td>LG Twins</td>\n",
       "      <td>26.3</td>\n",
       "      <td>3.90</td>\n",
       "      <td>72</td>\n",
       "      <td>57</td>\n",
       "      <td>0.558</td>\n",
       "      <td>3.57</td>\n",
       "      <td>3.96</td>\n",
       "      <td>143</td>\n",
       "      <td>143.0</td>\n",
       "      <td>143.0</td>\n",
       "      <td>0</td>\n",
       "      <td>18</td>\n",
       "      <td>32</td>\n",
       "      <td>1264.1</td>\n",
       "      <td>1117</td>\n",
       "      <td>557</td>\n",
       "      <td>501</td>\n",
       "      <td>79</td>\n",
       "      <td>542</td>\n",
       "      <td>17.0</td>\n",
       "      <td>1062</td>\n",
       "      <td>97</td>\n",
       "      <td>5.0</td>\n",
       "      <td>43.0</td>\n",
       "      <td>5416</td>\n",
       "      <td>1.312</td>\n",
       "      <td>8.0</td>\n",
       "      <td>0.6</td>\n",
       "      <td>3.9</td>\n",
       "      <td>7.6</td>\n",
       "      <td>1.96</td>\n",
       "      <td>0.503497</td>\n",
       "    </tr>\n",
       "    <tr>\n",
       "      <th>1</th>\n",
       "      <td>2</td>\n",
       "      <td>2021</td>\n",
       "      <td>KT Wiz</td>\n",
       "      <td>28.4</td>\n",
       "      <td>4.06</td>\n",
       "      <td>75</td>\n",
       "      <td>59</td>\n",
       "      <td>0.560</td>\n",
       "      <td>3.67</td>\n",
       "      <td>4.17</td>\n",
       "      <td>143</td>\n",
       "      <td>143.0</td>\n",
       "      <td>141.0</td>\n",
       "      <td>2</td>\n",
       "      <td>6</td>\n",
       "      <td>33</td>\n",
       "      <td>1255.0</td>\n",
       "      <td>1166</td>\n",
       "      <td>581</td>\n",
       "      <td>512</td>\n",
       "      <td>85</td>\n",
       "      <td>486</td>\n",
       "      <td>18.0</td>\n",
       "      <td>1051</td>\n",
       "      <td>42</td>\n",
       "      <td>1.0</td>\n",
       "      <td>56.0</td>\n",
       "      <td>5359</td>\n",
       "      <td>1.316</td>\n",
       "      <td>8.4</td>\n",
       "      <td>0.6</td>\n",
       "      <td>3.5</td>\n",
       "      <td>7.5</td>\n",
       "      <td>2.16</td>\n",
       "      <td>0.524476</td>\n",
       "    </tr>\n",
       "    <tr>\n",
       "      <th>2</th>\n",
       "      <td>3</td>\n",
       "      <td>2021</td>\n",
       "      <td>Doosan Bears</td>\n",
       "      <td>27.5</td>\n",
       "      <td>4.57</td>\n",
       "      <td>70</td>\n",
       "      <td>65</td>\n",
       "      <td>0.519</td>\n",
       "      <td>4.28</td>\n",
       "      <td>4.66</td>\n",
       "      <td>143</td>\n",
       "      <td>143.0</td>\n",
       "      <td>141.0</td>\n",
       "      <td>2</td>\n",
       "      <td>10</td>\n",
       "      <td>27</td>\n",
       "      <td>1260.1</td>\n",
       "      <td>1288</td>\n",
       "      <td>653</td>\n",
       "      <td>599</td>\n",
       "      <td>104</td>\n",
       "      <td>586</td>\n",
       "      <td>16.0</td>\n",
       "      <td>1037</td>\n",
       "      <td>73</td>\n",
       "      <td>7.0</td>\n",
       "      <td>51.0</td>\n",
       "      <td>5596</td>\n",
       "      <td>1.487</td>\n",
       "      <td>9.2</td>\n",
       "      <td>0.7</td>\n",
       "      <td>4.2</td>\n",
       "      <td>7.4</td>\n",
       "      <td>1.77</td>\n",
       "      <td>0.489510</td>\n",
       "    </tr>\n",
       "    <tr>\n",
       "      <th>3</th>\n",
       "      <td>4</td>\n",
       "      <td>2021</td>\n",
       "      <td>Samsung Lions</td>\n",
       "      <td>28.8</td>\n",
       "      <td>4.57</td>\n",
       "      <td>75</td>\n",
       "      <td>59</td>\n",
       "      <td>0.560</td>\n",
       "      <td>4.29</td>\n",
       "      <td>4.70</td>\n",
       "      <td>143</td>\n",
       "      <td>143.0</td>\n",
       "      <td>141.0</td>\n",
       "      <td>2</td>\n",
       "      <td>14</td>\n",
       "      <td>46</td>\n",
       "      <td>1250.0</td>\n",
       "      <td>1287</td>\n",
       "      <td>653</td>\n",
       "      <td>596</td>\n",
       "      <td>129</td>\n",
       "      <td>526</td>\n",
       "      <td>13.0</td>\n",
       "      <td>1031</td>\n",
       "      <td>51</td>\n",
       "      <td>3.0</td>\n",
       "      <td>56.0</td>\n",
       "      <td>5496</td>\n",
       "      <td>1.450</td>\n",
       "      <td>9.3</td>\n",
       "      <td>0.9</td>\n",
       "      <td>3.8</td>\n",
       "      <td>7.4</td>\n",
       "      <td>1.96</td>\n",
       "      <td>0.524476</td>\n",
       "    </tr>\n",
       "    <tr>\n",
       "      <th>4</th>\n",
       "      <td>5</td>\n",
       "      <td>2021</td>\n",
       "      <td>NC Dinos</td>\n",
       "      <td>27.7</td>\n",
       "      <td>4.80</td>\n",
       "      <td>67</td>\n",
       "      <td>67</td>\n",
       "      <td>0.500</td>\n",
       "      <td>4.50</td>\n",
       "      <td>4.95</td>\n",
       "      <td>143</td>\n",
       "      <td>143.0</td>\n",
       "      <td>140.0</td>\n",
       "      <td>3</td>\n",
       "      <td>10</td>\n",
       "      <td>33</td>\n",
       "      <td>1247.2</td>\n",
       "      <td>1256</td>\n",
       "      <td>686</td>\n",
       "      <td>624</td>\n",
       "      <td>122</td>\n",
       "      <td>585</td>\n",
       "      <td>14.0</td>\n",
       "      <td>1046</td>\n",
       "      <td>77</td>\n",
       "      <td>8.0</td>\n",
       "      <td>74.0</td>\n",
       "      <td>5575</td>\n",
       "      <td>1.476</td>\n",
       "      <td>9.1</td>\n",
       "      <td>0.9</td>\n",
       "      <td>4.2</td>\n",
       "      <td>7.5</td>\n",
       "      <td>1.79</td>\n",
       "      <td>0.468531</td>\n",
       "    </tr>\n",
       "  </tbody>\n",
       "</table>\n",
       "</div>"
      ],
      "text/plain": [
       "   id  year           team  average_age  runs_per_game  wins  losses  \\\n",
       "0   1  2021       LG Twins         26.3           3.90    72      57   \n",
       "1   2  2021         KT Wiz         28.4           4.06    75      59   \n",
       "2   3  2021   Doosan Bears         27.5           4.57    70      65   \n",
       "3   4  2021  Samsung Lions         28.8           4.57    75      59   \n",
       "4   5  2021       NC Dinos         27.7           4.80    67      67   \n",
       "\n",
       "   win_loss_percentage   ERA  run_average_9  games  games_started  \\\n",
       "0                0.558  3.57           3.96    143          143.0   \n",
       "1                0.560  3.67           4.17    143          143.0   \n",
       "2                0.519  4.28           4.66    143          143.0   \n",
       "3                0.560  4.29           4.70    143          143.0   \n",
       "4                0.500  4.50           4.95    143          143.0   \n",
       "\n",
       "   games_finished  complete_game  shutouts  saves  innings_pitched  hits  \\\n",
       "0           143.0              0        18     32           1264.1  1117   \n",
       "1           141.0              2         6     33           1255.0  1166   \n",
       "2           141.0              2        10     27           1260.1  1288   \n",
       "3           141.0              2        14     46           1250.0  1287   \n",
       "4           140.0              3        10     33           1247.2  1256   \n",
       "\n",
       "   runs  earned_runs  home_runs  walks  intentional_walks  strikeouts  \\\n",
       "0   557          501         79    542               17.0        1062   \n",
       "1   581          512         85    486               18.0        1051   \n",
       "2   653          599        104    586               16.0        1037   \n",
       "3   653          596        129    526               13.0        1031   \n",
       "4   686          624        122    585               14.0        1046   \n",
       "\n",
       "   hit_batter  balks  wild_pitches  batters_faced   WHIP  hits_9  homeruns_9  \\\n",
       "0          97    5.0          43.0           5416  1.312     8.0         0.6   \n",
       "1          42    1.0          56.0           5359  1.316     8.4         0.6   \n",
       "2          73    7.0          51.0           5596  1.487     9.2         0.7   \n",
       "3          51    3.0          56.0           5496  1.450     9.3         0.9   \n",
       "4          77    8.0          74.0           5575  1.476     9.1         0.9   \n",
       "\n",
       "   walks_9  strikeouts_9  strikeout_walk   Win_pct  \n",
       "0      3.9           7.6            1.96  0.503497  \n",
       "1      3.5           7.5            2.16  0.524476  \n",
       "2      4.2           7.4            1.77  0.489510  \n",
       "3      3.8           7.4            1.96  0.524476  \n",
       "4      4.2           7.5            1.79  0.468531  "
      ]
     },
     "execution_count": 421,
     "metadata": {},
     "output_type": "execute_result"
    }
   ],
   "source": [
    "df.head()"
   ]
  },
  {
   "cell_type": "code",
   "execution_count": 422,
   "id": "97a0390b",
   "metadata": {},
   "outputs": [
    {
     "data": {
      "image/png": "[encoded data removed]",
      "text/plain": [
       "<Figure size 640x480 with 1 Axes>"
      ]
     },
     "metadata": {},
     "output_type": "display_data"
    }
   ],
   "source": [
    "fgi1 = sn.regplot(data=df, x = 'average_age', y = 'Win_pct', color= 'black', ci = 5)"
   ]
  },
  {
   "cell_type": "code",
   "execution_count": 423,
   "id": "552a35ae",
   "metadata": {},
   "outputs": [
    {
     "data": {
      "image/png": "[encoded data removed]",
      "text/plain": [
       "<Figure size 640x480 with 1 Axes>"
      ]
     },
     "metadata": {},
     "output_type": "display_data"
    }
   ],
   "source": [
    "fig2 = sn.scatterplot(data = df, x = \"Win_pct\", y = \"team\", hue = \"average_age\", size = \"ERA\")"
   ]
  },
  {
   "cell_type": "code",
   "execution_count": 424,
   "id": "dcf62a62",
   "metadata": {},
   "outputs": [
    {
     "data": {
      "text/plain": [
       "22"
      ]
     },
     "execution_count": 424,
     "metadata": {},
     "output_type": "execute_result"
    }
   ],
   "source": [
    "len(df.team.unique())"
   ]
  },
  {
   "cell_type": "code",
   "execution_count": 425,
   "id": "ba487542",
   "metadata": {},
   "outputs": [
    {
     "data": {
      "text/plain": [
       "id                     0.000000\n",
       "year                   0.000000\n",
       "team                   0.000000\n",
       "average_age            0.000000\n",
       "runs_per_game          0.000000\n",
       "wins                   0.000000\n",
       "losses                 0.000000\n",
       "win_loss_percentage    0.000000\n",
       "ERA                    0.000000\n",
       "run_average_9          0.000000\n",
       "games                  0.000000\n",
       "games_started          0.430341\n",
       "games_finished         0.430341\n",
       "complete_game          0.000000\n",
       "shutouts               0.000000\n",
       "saves                  0.000000\n",
       "innings_pitched        0.000000\n",
       "hits                   0.000000\n",
       "runs                   0.000000\n",
       "earned_runs            0.000000\n",
       "home_runs              0.000000\n",
       "walks                  0.000000\n",
       "intentional_walks      0.430341\n",
       "strikeouts             0.000000\n",
       "hit_batter             0.000000\n",
       "balks                  0.430341\n",
       "wild_pitches           0.430341\n",
       "batters_faced          0.000000\n",
       "WHIP                   0.000000\n",
       "hits_9                 0.000000\n",
       "homeruns_9             0.000000\n",
       "walks_9                0.000000\n",
       "strikeouts_9           0.000000\n",
       "strikeout_walk         0.000000\n",
       "Win_pct                0.000000\n",
       "dtype: float64"
      ]
     },
     "execution_count": 425,
     "metadata": {},
     "output_type": "execute_result"
    }
   ],
   "source": [
    "df.isna().sum()/len(df.year)"
   ]
  },
  {
   "cell_type": "code",
   "execution_count": 426,
   "id": "948b6064",
   "metadata": {},
   "outputs": [],
   "source": [
    "class Preprocessing():\n",
    "    def __init__(self):\n",
    "        pass\n",
    "    def Encode(self, data):\n",
    "        ordinal_encoder = OrdinalEncoder()\n",
    "        cl = [\"team\"]\n",
    "        cl_cat = data[cl]\n",
    "        cl_encoded = ordinal_encoder.fit_transform(cl_cat)\n",
    "        data[cl] = cl_encoded\n",
    "        return data\n",
    "    \n",
    "    def Drop(self,data):\n",
    "        data.drop(columns = [\"wins\",\"losses\", \"win_loss_percentage\", 'id'], inplace = True)\n",
    "        return data\n",
    "    \n",
    "    def Impute(self, data):\n",
    "        imputer = KNNImputer(n_neighbors= 10)\n",
    "        data[data.columns[data.isna().any()].tolist()] = imputer.fit_transform(data[data.columns[data.isna().any()].tolist()])\n",
    "        return data\n",
    "    \n",
    "    def fit_transform(self,data):\n",
    "        self.Drop(data)\n",
    "        self.Encode(data)\n",
    "        return self.Impute(data)"
   ]
  },
  {
   "cell_type": "code",
   "execution_count": 427,
   "id": "836bf578",
   "metadata": {},
   "outputs": [],
   "source": [
    "preprocessor = Preprocessing()\n",
    "df = preprocessor.fit_transform(df)"
   ]
  },
  {
   "cell_type": "code",
   "execution_count": 428,
   "id": "ae074512",
   "metadata": {},
   "outputs": [
    {
     "data": {
      "text/html": [
       "<style>#sk-container-id-13 {color: black;background-color: white;}#sk-container-id-13 pre{padding: 0;}#sk-container-id-13 div.sk-toggleable {background-color: white;}#sk-container-id-13 label.sk-toggleable__label {cursor: pointer;display: block;width: 100%;margin-bottom: 0;padding: 0.3em;box-sizing: border-box;text-align: center;}#sk-container-id-13 label.sk-toggleable__label-arrow:before {content: \"▸\";float: left;margin-right: 0.25em;color: #696969;}#sk-container-id-13 label.sk-toggleable__label-arrow:hover:before {color: black;}#sk-container-id-13 div.sk-estimator:hover label.sk-toggleable__label-arrow:before {color: black;}#sk-container-id-13 div.sk-toggleable__content {max-height: 0;max-width: 0;overflow: hidden;text-align: left;background-color: #f0f8ff;}#sk-container-id-13 div.sk-toggleable__content pre {margin: 0.2em;color: black;border-radius: 0.25em;background-color: #f0f8ff;}#sk-container-id-13 input.sk-toggleable__control:checked~div.sk-toggleable__content {max-height: 200px;max-width: 100%;overflow: auto;}#sk-container-id-13 input.sk-toggleable__control:checked~label.sk-toggleable__label-arrow:before {content: \"▾\";}#sk-container-id-13 div.sk-estimator input.sk-toggleable__control:checked~label.sk-toggleable__label {background-color: #d4ebff;}#sk-container-id-13 div.sk-label input.sk-toggleable__control:checked~label.sk-toggleable__label {background-color: #d4ebff;}#sk-container-id-13 input.sk-hidden--visually {border: 0;clip: rect(1px 1px 1px 1px);clip: rect(1px, 1px, 1px, 1px);height: 1px;margin: -1px;overflow: hidden;padding: 0;position: absolute;width: 1px;}#sk-container-id-13 div.sk-estimator {font-family: monospace;background-color: #f0f8ff;border: 1px dotted black;border-radius: 0.25em;box-sizing: border-box;margin-bottom: 0.5em;}#sk-container-id-13 div.sk-estimator:hover {background-color: #d4ebff;}#sk-container-id-13 div.sk-parallel-item::after {content: \"\";width: 100%;border-bottom: 1px solid gray;flex-grow: 1;}#sk-container-id-13 div.sk-label:hover label.sk-toggleable__label {background-color: #d4ebff;}#sk-container-id-13 div.sk-serial::before {content: \"\";position: absolute;border-left: 1px solid gray;box-sizing: border-box;top: 0;bottom: 0;left: 50%;z-index: 0;}#sk-container-id-13 div.sk-serial {display: flex;flex-direction: column;align-items: center;background-color: white;padding-right: 0.2em;padding-left: 0.2em;position: relative;}#sk-container-id-13 div.sk-item {position: relative;z-index: 1;}#sk-container-id-13 div.sk-parallel {display: flex;align-items: stretch;justify-content: center;background-color: white;position: relative;}#sk-container-id-13 div.sk-item::before, #sk-container-id-13 div.sk-parallel-item::before {content: \"\";position: absolute;border-left: 1px solid gray;box-sizing: border-box;top: 0;bottom: 0;left: 50%;z-index: -1;}#sk-container-id-13 div.sk-parallel-item {display: flex;flex-direction: column;z-index: 1;position: relative;background-color: white;}#sk-container-id-13 div.sk-parallel-item:first-child::after {align-self: flex-end;width: 50%;}#sk-container-id-13 div.sk-parallel-item:last-child::after {align-self: flex-start;width: 50%;}#sk-container-id-13 div.sk-parallel-item:only-child::after {width: 0;}#sk-container-id-13 div.sk-dashed-wrapped {border: 1px dashed gray;margin: 0 0.4em 0.5em 0.4em;box-sizing: border-box;padding-bottom: 0.4em;background-color: white;}#sk-container-id-13 div.sk-label label {font-family: monospace;font-weight: bold;display: inline-block;line-height: 1.2em;}#sk-container-id-13 div.sk-label-container {text-align: center;}#sk-container-id-13 div.sk-container {/* jupyter's `normalize.less` sets `[hidden] { display: none; }` but bootstrap.min.css set `[hidden] { display: none !important; }` so we also need the `!important` here to be able to override the default hidden behavior on the sphinx rendered scikit-learn.org. See: https://github.com/scikit-learn/scikit-learn/issues/21755 */display: inline-block !important;position: relative;}#sk-container-id-13 div.sk-text-repr-fallback {display: none;}</style><div id=\"sk-container-id-13\" class=\"sk-top-container\"><div class=\"sk-text-repr-fallback\"><pre>IsolationForest(max_samples=100, random_state=42)</pre><b>In a Jupyter environment, please rerun this cell to show the HTML representation or trust the notebook. <br />On GitHub, the HTML representation is unable to render, please try loading this page with nbviewer.org.</b></div><div class=\"sk-container\" hidden><div class=\"sk-item\"><div class=\"sk-estimator sk-toggleable\"><input class=\"sk-toggleable__control sk-hidden--visually\" id=\"sk-estimator-id-17\" type=\"checkbox\" checked><label for=\"sk-estimator-id-17\" class=\"sk-toggleable__label sk-toggleable__label-arrow\">IsolationForest</label><div class=\"sk-toggleable__content\"><pre>IsolationForest(max_samples=100, random_state=42)</pre></div></div></div></div></div>"
      ],
      "text/plain": [
       "IsolationForest(max_samples=100, random_state=42)"
      ]
     },
     "execution_count": 428,
     "metadata": {},
     "output_type": "execute_result"
    }
   ],
   "source": [
    "clf = IsolationForest(max_samples = 100, random_state=42)\n",
    "clf.fit(df)"
   ]
  },
  {
   "cell_type": "code",
   "execution_count": 429,
   "id": "4b60d0e3",
   "metadata": {},
   "outputs": [
    {
     "data": {
      "text/plain": [
       "Anomalies\n",
       " 1           266\n",
       "-1            57\n",
       "Name: count, dtype: int64"
      ]
     },
     "execution_count": 429,
     "metadata": {},
     "output_type": "execute_result"
    }
   ],
   "source": [
    "ano = clf.predict(df)\n",
    "ano = pd.DataFrame(ano, columns = ['Anomalies'])\n",
    "ano.value_counts()"
   ]
  },
  {
   "cell_type": "code",
   "execution_count": 430,
   "id": "1aa6c81f",
   "metadata": {},
   "outputs": [],
   "source": [
    "df = df.iloc[ano[ano['Anomalies'] == 1].index.values]"
   ]
  },
  {
   "cell_type": "code",
   "execution_count": 431,
   "id": "3ba433ad",
   "metadata": {},
   "outputs": [
    {
     "data": {
      "text/html": [
       "<div>\n",
       "<style scoped>\n",
       "    .dataframe tbody tr th:only-of-type {\n",
       "        vertical-align: middle;\n",
       "    }\n",
       "\n",
       "    .dataframe tbody tr th {\n",
       "        vertical-align: top;\n",
       "    }\n",
       "\n",
       "    .dataframe thead th {\n",
       "        text-align: right;\n",
       "    }\n",
       "</style>\n",
       "<table border=\"1\" class=\"dataframe\">\n",
       "  <thead>\n",
       "    <tr style=\"text-align: right;\">\n",
       "      <th></th>\n",
       "      <th>year</th>\n",
       "      <th>team</th>\n",
       "      <th>average_age</th>\n",
       "      <th>runs_per_game</th>\n",
       "      <th>ERA</th>\n",
       "      <th>run_average_9</th>\n",
       "      <th>games</th>\n",
       "      <th>games_started</th>\n",
       "      <th>games_finished</th>\n",
       "      <th>complete_game</th>\n",
       "      <th>shutouts</th>\n",
       "      <th>saves</th>\n",
       "      <th>innings_pitched</th>\n",
       "      <th>hits</th>\n",
       "      <th>runs</th>\n",
       "      <th>earned_runs</th>\n",
       "      <th>home_runs</th>\n",
       "      <th>walks</th>\n",
       "      <th>intentional_walks</th>\n",
       "      <th>strikeouts</th>\n",
       "      <th>hit_batter</th>\n",
       "      <th>balks</th>\n",
       "      <th>wild_pitches</th>\n",
       "      <th>batters_faced</th>\n",
       "      <th>WHIP</th>\n",
       "      <th>hits_9</th>\n",
       "      <th>homeruns_9</th>\n",
       "      <th>walks_9</th>\n",
       "      <th>strikeouts_9</th>\n",
       "      <th>strikeout_walk</th>\n",
       "      <th>Win_pct</th>\n",
       "    </tr>\n",
       "  </thead>\n",
       "  <tbody>\n",
       "    <tr>\n",
       "      <th>count</th>\n",
       "      <td>266.000000</td>\n",
       "      <td>266.000000</td>\n",
       "      <td>266.000000</td>\n",
       "      <td>266.000000</td>\n",
       "      <td>266.000000</td>\n",
       "      <td>266.000000</td>\n",
       "      <td>266.000000</td>\n",
       "      <td>266.000000</td>\n",
       "      <td>266.000000</td>\n",
       "      <td>266.000000</td>\n",
       "      <td>266.00000</td>\n",
       "      <td>266.000000</td>\n",
       "      <td>266.000000</td>\n",
       "      <td>266.000000</td>\n",
       "      <td>266.000000</td>\n",
       "      <td>266.000000</td>\n",
       "      <td>266.000000</td>\n",
       "      <td>266.000000</td>\n",
       "      <td>266.000000</td>\n",
       "      <td>266.000000</td>\n",
       "      <td>266.000000</td>\n",
       "      <td>266.000000</td>\n",
       "      <td>266.000000</td>\n",
       "      <td>266.000000</td>\n",
       "      <td>266.000000</td>\n",
       "      <td>266.000000</td>\n",
       "      <td>266.000000</td>\n",
       "      <td>266.000000</td>\n",
       "      <td>266.000000</td>\n",
       "      <td>266.000000</td>\n",
       "      <td>266.000000</td>\n",
       "    </tr>\n",
       "    <tr>\n",
       "      <th>mean</th>\n",
       "      <td>2003.045113</td>\n",
       "      <td>9.890977</td>\n",
       "      <td>26.798120</td>\n",
       "      <td>4.586128</td>\n",
       "      <td>4.185263</td>\n",
       "      <td>4.653609</td>\n",
       "      <td>129.097744</td>\n",
       "      <td>134.806309</td>\n",
       "      <td>131.898496</td>\n",
       "      <td>10.180451</td>\n",
       "      <td>6.31203</td>\n",
       "      <td>29.706767</td>\n",
       "      <td>1145.446992</td>\n",
       "      <td>1151.334586</td>\n",
       "      <td>594.740602</td>\n",
       "      <td>535.526316</td>\n",
       "      <td>105.992481</td>\n",
       "      <td>452.165414</td>\n",
       "      <td>17.891958</td>\n",
       "      <td>767.488722</td>\n",
       "      <td>66.939850</td>\n",
       "      <td>3.748284</td>\n",
       "      <td>56.196143</td>\n",
       "      <td>4965.477444</td>\n",
       "      <td>1.396865</td>\n",
       "      <td>9.025940</td>\n",
       "      <td>0.828947</td>\n",
       "      <td>3.545865</td>\n",
       "      <td>5.967293</td>\n",
       "      <td>1.705902</td>\n",
       "      <td>0.489015</td>\n",
       "    </tr>\n",
       "    <tr>\n",
       "      <th>std</th>\n",
       "      <td>10.408171</td>\n",
       "      <td>5.774975</td>\n",
       "      <td>1.590335</td>\n",
       "      <td>0.584003</td>\n",
       "      <td>0.604401</td>\n",
       "      <td>0.611765</td>\n",
       "      <td>9.975339</td>\n",
       "      <td>5.192574</td>\n",
       "      <td>5.879934</td>\n",
       "      <td>11.009659</td>\n",
       "      <td>3.33823</td>\n",
       "      <td>8.635409</td>\n",
       "      <td>88.368196</td>\n",
       "      <td>143.219599</td>\n",
       "      <td>104.810829</td>\n",
       "      <td>102.035072</td>\n",
       "      <td>31.702984</td>\n",
       "      <td>71.728332</td>\n",
       "      <td>7.008062</td>\n",
       "      <td>183.041685</td>\n",
       "      <td>18.959245</td>\n",
       "      <td>1.583187</td>\n",
       "      <td>11.301719</td>\n",
       "      <td>451.731371</td>\n",
       "      <td>0.095757</td>\n",
       "      <td>0.647698</td>\n",
       "      <td>0.216378</td>\n",
       "      <td>0.457394</td>\n",
       "      <td>1.100267</td>\n",
       "      <td>0.365007</td>\n",
       "      <td>0.077965</td>\n",
       "    </tr>\n",
       "    <tr>\n",
       "      <th>min</th>\n",
       "      <td>1983.000000</td>\n",
       "      <td>0.000000</td>\n",
       "      <td>23.300000</td>\n",
       "      <td>3.210000</td>\n",
       "      <td>2.890000</td>\n",
       "      <td>3.230000</td>\n",
       "      <td>100.000000</td>\n",
       "      <td>126.000000</td>\n",
       "      <td>115.000000</td>\n",
       "      <td>0.000000</td>\n",
       "      <td>0.00000</td>\n",
       "      <td>7.000000</td>\n",
       "      <td>880.200000</td>\n",
       "      <td>803.000000</td>\n",
       "      <td>374.000000</td>\n",
       "      <td>310.000000</td>\n",
       "      <td>39.000000</td>\n",
       "      <td>260.000000</td>\n",
       "      <td>0.000000</td>\n",
       "      <td>329.000000</td>\n",
       "      <td>30.000000</td>\n",
       "      <td>0.000000</td>\n",
       "      <td>22.000000</td>\n",
       "      <td>3707.000000</td>\n",
       "      <td>1.163000</td>\n",
       "      <td>7.500000</td>\n",
       "      <td>0.300000</td>\n",
       "      <td>2.600000</td>\n",
       "      <td>3.200000</td>\n",
       "      <td>0.850000</td>\n",
       "      <td>0.263158</td>\n",
       "    </tr>\n",
       "    <tr>\n",
       "      <th>25%</th>\n",
       "      <td>1994.250000</td>\n",
       "      <td>5.000000</td>\n",
       "      <td>25.700000</td>\n",
       "      <td>4.130000</td>\n",
       "      <td>3.712500</td>\n",
       "      <td>4.180000</td>\n",
       "      <td>126.000000</td>\n",
       "      <td>133.000000</td>\n",
       "      <td>129.000000</td>\n",
       "      <td>2.000000</td>\n",
       "      <td>4.00000</td>\n",
       "      <td>25.000000</td>\n",
       "      <td>1111.925000</td>\n",
       "      <td>1050.750000</td>\n",
       "      <td>518.000000</td>\n",
       "      <td>459.250000</td>\n",
       "      <td>81.250000</td>\n",
       "      <td>404.000000</td>\n",
       "      <td>16.000000</td>\n",
       "      <td>653.000000</td>\n",
       "      <td>53.000000</td>\n",
       "      <td>3.000000</td>\n",
       "      <td>51.250000</td>\n",
       "      <td>4737.750000</td>\n",
       "      <td>1.323750</td>\n",
       "      <td>8.600000</td>\n",
       "      <td>0.700000</td>\n",
       "      <td>3.300000</td>\n",
       "      <td>5.200000</td>\n",
       "      <td>1.480000</td>\n",
       "      <td>0.436508</td>\n",
       "    </tr>\n",
       "    <tr>\n",
       "      <th>50%</th>\n",
       "      <td>2003.000000</td>\n",
       "      <td>10.000000</td>\n",
       "      <td>26.800000</td>\n",
       "      <td>4.620000</td>\n",
       "      <td>4.220000</td>\n",
       "      <td>4.660000</td>\n",
       "      <td>128.000000</td>\n",
       "      <td>135.423913</td>\n",
       "      <td>132.625000</td>\n",
       "      <td>5.000000</td>\n",
       "      <td>6.00000</td>\n",
       "      <td>30.000000</td>\n",
       "      <td>1135.700000</td>\n",
       "      <td>1139.000000</td>\n",
       "      <td>586.000000</td>\n",
       "      <td>530.500000</td>\n",
       "      <td>102.000000</td>\n",
       "      <td>451.500000</td>\n",
       "      <td>17.788043</td>\n",
       "      <td>790.000000</td>\n",
       "      <td>66.000000</td>\n",
       "      <td>3.902174</td>\n",
       "      <td>56.983696</td>\n",
       "      <td>4961.000000</td>\n",
       "      <td>1.401500</td>\n",
       "      <td>9.000000</td>\n",
       "      <td>0.800000</td>\n",
       "      <td>3.500000</td>\n",
       "      <td>6.100000</td>\n",
       "      <td>1.720000</td>\n",
       "      <td>0.492560</td>\n",
       "    </tr>\n",
       "    <tr>\n",
       "      <th>75%</th>\n",
       "      <td>2012.000000</td>\n",
       "      <td>14.000000</td>\n",
       "      <td>27.900000</td>\n",
       "      <td>5.017500</td>\n",
       "      <td>4.610000</td>\n",
       "      <td>5.077500</td>\n",
       "      <td>133.000000</td>\n",
       "      <td>135.423913</td>\n",
       "      <td>132.625000</td>\n",
       "      <td>18.750000</td>\n",
       "      <td>9.00000</td>\n",
       "      <td>36.000000</td>\n",
       "      <td>1187.775000</td>\n",
       "      <td>1247.250000</td>\n",
       "      <td>669.750000</td>\n",
       "      <td>607.750000</td>\n",
       "      <td>128.000000</td>\n",
       "      <td>505.750000</td>\n",
       "      <td>18.000000</td>\n",
       "      <td>893.000000</td>\n",
       "      <td>79.000000</td>\n",
       "      <td>4.000000</td>\n",
       "      <td>56.983696</td>\n",
       "      <td>5204.750000</td>\n",
       "      <td>1.468750</td>\n",
       "      <td>9.500000</td>\n",
       "      <td>1.000000</td>\n",
       "      <td>3.900000</td>\n",
       "      <td>6.700000</td>\n",
       "      <td>1.947500</td>\n",
       "      <td>0.548611</td>\n",
       "    </tr>\n",
       "    <tr>\n",
       "      <th>max</th>\n",
       "      <td>2021.000000</td>\n",
       "      <td>21.000000</td>\n",
       "      <td>32.400000</td>\n",
       "      <td>5.860000</td>\n",
       "      <td>5.490000</td>\n",
       "      <td>5.990000</td>\n",
       "      <td>144.000000</td>\n",
       "      <td>144.000000</td>\n",
       "      <td>144.000000</td>\n",
       "      <td>51.000000</td>\n",
       "      <td>16.00000</td>\n",
       "      <td>52.000000</td>\n",
       "      <td>1296.200000</td>\n",
       "      <td>1518.000000</td>\n",
       "      <td>820.000000</td>\n",
       "      <td>747.000000</td>\n",
       "      <td>189.000000</td>\n",
       "      <td>647.000000</td>\n",
       "      <td>44.000000</td>\n",
       "      <td>1149.000000</td>\n",
       "      <td>120.000000</td>\n",
       "      <td>11.000000</td>\n",
       "      <td>103.000000</td>\n",
       "      <td>5782.000000</td>\n",
       "      <td>1.618000</td>\n",
       "      <td>10.600000</td>\n",
       "      <td>1.400000</td>\n",
       "      <td>5.100000</td>\n",
       "      <td>8.200000</td>\n",
       "      <td>2.740000</td>\n",
       "      <td>0.684211</td>\n",
       "    </tr>\n",
       "  </tbody>\n",
       "</table>\n",
       "</div>"
      ],
      "text/plain": [
       "              year        team  average_age  runs_per_game         ERA  \\\n",
       "count   266.000000  266.000000   266.000000     266.000000  266.000000   \n",
       "mean   2003.045113    9.890977    26.798120       4.586128    4.185263   \n",
       "std      10.408171    5.774975     1.590335       0.584003    0.604401   \n",
       "min    1983.000000    0.000000    23.300000       3.210000    2.890000   \n",
       "25%    1994.250000    5.000000    25.700000       4.130000    3.712500   \n",
       "50%    2003.000000   10.000000    26.800000       4.620000    4.220000   \n",
       "75%    2012.000000   14.000000    27.900000       5.017500    4.610000   \n",
       "max    2021.000000   21.000000    32.400000       5.860000    5.490000   \n",
       "\n",
       "       run_average_9       games  games_started  games_finished  \\\n",
       "count     266.000000  266.000000     266.000000      266.000000   \n",
       "mean        4.653609  129.097744     134.806309      131.898496   \n",
       "std         0.611765    9.975339       5.192574        5.879934   \n",
       "min         3.230000  100.000000     126.000000      115.000000   \n",
       "25%         4.180000  126.000000     133.000000      129.000000   \n",
       "50%         4.660000  128.000000     135.423913      132.625000   \n",
       "75%         5.077500  133.000000     135.423913      132.625000   \n",
       "max         5.990000  144.000000     144.000000      144.000000   \n",
       "\n",
       "       complete_game   shutouts       saves  innings_pitched         hits  \\\n",
       "count     266.000000  266.00000  266.000000       266.000000   266.000000   \n",
       "mean       10.180451    6.31203   29.706767      1145.446992  1151.334586   \n",
       "std        11.009659    3.33823    8.635409        88.368196   143.219599   \n",
       "min         0.000000    0.00000    7.000000       880.200000   803.000000   \n",
       "25%         2.000000    4.00000   25.000000      1111.925000  1050.750000   \n",
       "50%         5.000000    6.00000   30.000000      1135.700000  1139.000000   \n",
       "75%        18.750000    9.00000   36.000000      1187.775000  1247.250000   \n",
       "max        51.000000   16.00000   52.000000      1296.200000  1518.000000   \n",
       "\n",
       "             runs  earned_runs   home_runs       walks  intentional_walks  \\\n",
       "count  266.000000   266.000000  266.000000  266.000000         266.000000   \n",
       "mean   594.740602   535.526316  105.992481  452.165414          17.891958   \n",
       "std    104.810829   102.035072   31.702984   71.728332           7.008062   \n",
       "min    374.000000   310.000000   39.000000  260.000000           0.000000   \n",
       "25%    518.000000   459.250000   81.250000  404.000000          16.000000   \n",
       "50%    586.000000   530.500000  102.000000  451.500000          17.788043   \n",
       "75%    669.750000   607.750000  128.000000  505.750000          18.000000   \n",
       "max    820.000000   747.000000  189.000000  647.000000          44.000000   \n",
       "\n",
       "        strikeouts  hit_batter       balks  wild_pitches  batters_faced  \\\n",
       "count   266.000000  266.000000  266.000000    266.000000     266.000000   \n",
       "mean    767.488722   66.939850    3.748284     56.196143    4965.477444   \n",
       "std     183.041685   18.959245    1.583187     11.301719     451.731371   \n",
       "min     329.000000   30.000000    0.000000     22.000000    3707.000000   \n",
       "25%     653.000000   53.000000    3.000000     51.250000    4737.750000   \n",
       "50%     790.000000   66.000000    3.902174     56.983696    4961.000000   \n",
       "75%     893.000000   79.000000    4.000000     56.983696    5204.750000   \n",
       "max    1149.000000  120.000000   11.000000    103.000000    5782.000000   \n",
       "\n",
       "             WHIP      hits_9  homeruns_9     walks_9  strikeouts_9  \\\n",
       "count  266.000000  266.000000  266.000000  266.000000    266.000000   \n",
       "mean     1.396865    9.025940    0.828947    3.545865      5.967293   \n",
       "std      0.095757    0.647698    0.216378    0.457394      1.100267   \n",
       "min      1.163000    7.500000    0.300000    2.600000      3.200000   \n",
       "25%      1.323750    8.600000    0.700000    3.300000      5.200000   \n",
       "50%      1.401500    9.000000    0.800000    3.500000      6.100000   \n",
       "75%      1.468750    9.500000    1.000000    3.900000      6.700000   \n",
       "max      1.618000   10.600000    1.400000    5.100000      8.200000   \n",
       "\n",
       "       strikeout_walk     Win_pct  \n",
       "count      266.000000  266.000000  \n",
       "mean         1.705902    0.489015  \n",
       "std          0.365007    0.077965  \n",
       "min          0.850000    0.263158  \n",
       "25%          1.480000    0.436508  \n",
       "50%          1.720000    0.492560  \n",
       "75%          1.947500    0.548611  \n",
       "max          2.740000    0.684211  "
      ]
     },
     "execution_count": 431,
     "metadata": {},
     "output_type": "execute_result"
    }
   ],
   "source": [
    "df.describe()"
   ]
  },
  {
   "cell_type": "code",
   "execution_count": 432,
   "id": "486891d8",
   "metadata": {},
   "outputs": [],
   "source": [
    "corr_matrix = df.corr()"
   ]
  },
  {
   "cell_type": "code",
   "execution_count": 433,
   "id": "904c358f",
   "metadata": {},
   "outputs": [
    {
     "data": {
      "text/plain": [
       "Win_pct              1.000000\n",
       "saves                0.532913\n",
       "strikeout_walk       0.397150\n",
       "strikeouts_9         0.269537\n",
       "strikeouts           0.260339\n",
       "shutouts             0.237912\n",
       "innings_pitched      0.184241\n",
       "average_age          0.135907\n",
       "year                 0.128131\n",
       "games                0.127301\n",
       "batters_faced        0.065690\n",
       "games_finished       0.054855\n",
       "games_started        0.047635\n",
       "balks               -0.028439\n",
       "home_runs           -0.030762\n",
       "hits                -0.051554\n",
       "team                -0.064471\n",
       "hit_batter          -0.073710\n",
       "homeruns_9          -0.084386\n",
       "wild_pitches        -0.092357\n",
       "complete_game       -0.098078\n",
       "walks               -0.145563\n",
       "intentional_walks   -0.162759\n",
       "earned_runs         -0.197054\n",
       "runs                -0.224510\n",
       "walks_9             -0.283439\n",
       "hits_9              -0.297988\n",
       "ERA                 -0.364282\n",
       "WHIP                -0.373381\n",
       "runs_per_game       -0.393835\n",
       "run_average_9       -0.415579\n",
       "Name: Win_pct, dtype: float64"
      ]
     },
     "execution_count": 433,
     "metadata": {},
     "output_type": "execute_result"
    }
   ],
   "source": [
    "corr_matrix['Win_pct'].sort_values(ascending=False)"
   ]
  },
  {
   "cell_type": "code",
   "execution_count": 434,
   "id": "4b27c3c7",
   "metadata": {},
   "outputs": [
    {
     "data": {
      "application/vnd.plotly.v1+json": {
       "config": {
        "plotlyServerURL": "https://plot.ly"
       },
       "data": [
        {
         "coloraxis": "coloraxis",
         "hovertemplate": "x: %{x}<br>y: %{y}<br>color: %{z}<extra></extra>",
         "name": "0",
         "type": "heatmap",
         "x": [
          "year",
          "team",
          "average_age",
          "runs_per_game",
          "ERA",
          "run_average_9",
          "games",
          "games_started",
          "games_finished",
          "complete_game",
          "shutouts",
          "saves",
          "innings_pitched",
          "hits",
          "runs",
          "earned_runs",
          "home_runs",
          "walks",
          "intentional_walks",
          "strikeouts",
          "hit_batter",
          "balks",
          "wild_pitches",
          "batters_faced",
          "WHIP",
          "hits_9",
          "homeruns_9",
          "walks_9",
          "strikeouts_9",
          "strikeout_walk",
          "Win_pct"
         ],
         "xaxis": "x",
         "y": [
          "year",
          "team",
          "average_age",
          "runs_per_game",
          "ERA",
          "run_average_9",
          "games",
          "games_started",
          "games_finished",
          "complete_game",
          "shutouts",
          "saves",
          "innings_pitched",
          "hits",
          "runs",
          "earned_runs",
          "home_runs",
          "walks",
          "intentional_walks",
          "strikeouts",
          "hit_batter",
          "balks",
          "wild_pitches",
          "batters_faced",
          "WHIP",
          "hits_9",
          "homeruns_9",
          "walks_9",
          "strikeouts_9",
          "strikeout_walk",
          "Win_pct"
         ],
         "yaxis": "y",
         "z": [
          [
           1,
           -0.08373076463782002,
           0.5599394063088429,
           0.4334466924724558,
           0.49018495694386216,
           0.4194074331445036,
           0.841576424463127,
           0.21885249469279927,
           0.2302924049260825,
           -0.7953565912201015,
           0.3153179663684098,
           0.43935545692797284,
           0.8422052248547206,
           0.797036393994636,
           0.6773810585170537,
           0.7018155819106155,
           0.4935963676086325,
           0.5266566356165647,
           -0.07091487447280656,
           0.8471551975531887,
           0.5218453808070378,
           0.036782625627472525,
           0.18906103994236492,
           0.858883902510308,
           0.4403754328835212,
           0.4719887307583588,
           0.33302764038909416,
           0.16079163652552014,
           0.7812564499329838,
           0.5667433924231524,
           0.1281305534839186
          ],
          [
           -0.08373076463782002,
           1,
           -0.09674362622983466,
           -0.017144008914687626,
           -0.021208973690035764,
           -0.021998262130220603,
           -0.07193564264905061,
           -0.013701279276621518,
           0.03390093955407644,
           0.03265704284109603,
           -0.06223692912268439,
           -0.0006434755852255479,
           -0.06362613797248538,
           -0.08036499020752949,
           -0.04898106717558443,
           -0.04726018708896792,
           -0.03564130973405399,
           0.1338407066542424,
           0.0218180941402,
           -0.09963839831840572,
           -0.04769126705622297,
           0.00793358667689804,
           -0.06771733267928437,
           -0.05745735680527111,
           0.06592607805607015,
           -0.05735145295636669,
           -0.030079736467044947,
           0.21833452830318295,
           -0.10977969643180051,
           -0.19568510652531074,
           -0.06447052285430876
          ],
          [
           0.5599394063088429,
           -0.09674362622983466,
           1,
           0.24548852379580646,
           0.25876703876227153,
           0.22364620798818236,
           0.3486085796993068,
           0.023105484091446266,
           0.009185411550458784,
           -0.49714664482073617,
           0.19053499042510402,
           0.3104317690989269,
           0.37146262950335174,
           0.4440228781274831,
           0.33196560073987247,
           0.34757039219231434,
           0.2642939058120842,
           0.1486177845251876,
           0.09221902864209174,
           0.40203515706348675,
           0.2778879612907075,
           -0.0864343282099396,
           0.047240835593870587,
           0.3970257965738454,
           0.25766585508827844,
           0.3674568771530437,
           0.20083878343016154,
           -0.034379250173051615,
           0.369927675559031,
           0.3273777869758816,
           0.13590661887318253
          ],
          [
           0.4334466924724558,
           -0.017144008914687626,
           0.24548852379580646,
           1,
           0.9781304840605386,
           0.9921999428811137,
           0.4636637451153304,
           0.24807328762978423,
           0.2522631909092544,
           -0.4277299828679807,
           -0.28213480735407986,
           -0.05148219203766232,
           0.4250922471278553,
           0.7639300696963575,
           0.9233236955960574,
           0.9068972580384553,
           0.7308158261359945,
           0.5539999111155903,
           -0.006442902305089225,
           0.3591415369006949,
           0.42263959893715214,
           0.11846043169712177,
           0.30329225870836274,
           0.5992050520102211,
           0.8816222221107913,
           0.8654638776969812,
           0.7071388979197377,
           0.436455373843722,
           0.2990006423943849,
           0.014129853212608795,
           -0.3938347250845149
          ],
          [
           0.49018495694386216,
           -0.021208973690035764,
           0.25876703876227153,
           0.9781304840605386,
           1,
           0.9841887529155012,
           0.5286201840116466,
           0.22322469600952466,
           0.23015870392499777,
           -0.4909518526546392,
           -0.2738443470346209,
           0.02949930835304134,
           0.4689726298693966,
           0.785769823071912,
           0.9330968234520324,
           0.9363336796864213,
           0.761280495147575,
           0.5732943834446316,
           -0.02006170530029629,
           0.4191258941853475,
           0.4584041115926517,
           0.12495968342146693,
           0.2859744353073609,
           0.6363497297698877,
           0.8778412504246519,
           0.8575397509896072,
           0.7323461816810546,
           0.43710336707835756,
           0.3667503382744382,
           0.07250261590045237,
           -0.36428231277916234
          ],
          [
           0.4194074331445036,
           -0.021998262130220603,
           0.22364620798818236,
           0.9921999428811137,
           0.9841887529155012,
           1,
           0.46305701914830566,
           0.24889548421254895,
           0.2502565902247616,
           -0.4262535431334112,
           -0.3080077557480858,
           -0.05215068391133994,
           0.39944471302546286,
           0.7459029690775416,
           0.91681035422553,
           0.9000025074837037,
           0.7399789743402279,
           0.5389368536125985,
           -0.00787711306174891,
           0.35069070093823507,
           0.4240451778911098,
           0.11479672445703283,
           0.30170348045051265,
           0.5775628792582574,
           0.8776100487669144,
           0.8618016851115989,
           0.7268015378548514,
           0.43170938596263025,
           0.30004253263161945,
           0.016406385344604223,
           -0.415579349229177
          ],
          [
           0.841576424463127,
           -0.07193564264905061,
           0.3486085796993068,
           0.4636637451153304,
           0.5286201840116466,
           0.46305701914830566,
           1,
           0.4522187786582574,
           0.42025971470096574,
           -0.6632396048642958,
           0.16305606609600506,
           0.48448896972021466,
           0.9781426213649062,
           0.8533141328234519,
           0.7656893001380448,
           0.7798292172934719,
           0.6407819501152359,
           0.6046563829688166,
           -0.004039695954267121,
           0.874070115356921,
           0.5285428781505563,
           0.06826782001247293,
           0.2565606292525054,
           0.9679145214276256,
           0.41606680144011376,
           0.4191910703555131,
           0.46425454217501944,
           0.18907169833481033,
           0.7759112465776079,
           0.5659815932728683,
           0.1273014480871588
          ],
          [
           0.21885249469279927,
           -0.013701279276621518,
           0.023105484091446266,
           0.24807328762978423,
           0.22322469600952466,
           0.24889548421254895,
           0.4522187786582574,
           1,
           0.9436986840874071,
           0.046500834954615176,
           -0.03171055668085403,
           -0.05272225530483608,
           0.43599843623740264,
           0.4350233521472578,
           0.3957923773714229,
           0.3664889081516936,
           0.32722282934919555,
           0.14648017562442353,
           -0.024123423833467016,
           0.31012344541698034,
           0.10549526555997371,
           0.23841294612715644,
           0.5697710602376893,
           0.4229004184176048,
           0.1479594359021142,
           0.2551956379480347,
           0.2344786019919949,
           -0.08335384641452295,
           0.1844619424119117,
           0.2101257509375917,
           0.04763464462545534
          ],
          [
           0.2302924049260825,
           0.03390093955407644,
           0.009185411550458784,
           0.2522631909092544,
           0.23015870392499777,
           0.2502565902247616,
           0.42025971470096574,
           0.9436986840874071,
           1,
           -0.007060764344065707,
           -0.057112586225606825,
           -0.04118505593694218,
           0.40853668156594275,
           0.4178816224054406,
           0.3841386572516044,
           0.35973632288634055,
           0.28807845530828674,
           0.16684743093312668,
           -0.08148051449016132,
           0.29687117056652307,
           0.07909938068797125,
           0.2360683766701636,
           0.5624120427339457,
           0.40260120588160403,
           0.17045206354481843,
           0.2588233349491799,
           0.20026078277492107,
           -0.044161653215332816,
           0.17925456812199514,
           0.18063030226142818,
           0.05485453164759183
          ],
          [
           -0.7953565912201015,
           0.03265704284109603,
           -0.49714664482073617,
           -0.4277299828679807,
           -0.4909518526546392,
           -0.4262535431334112,
           -0.6632396048642958,
           0.046500834954615176,
           -0.007060764344065707,
           1,
           -0.07074064257424821,
           -0.5863989781234574,
           -0.6441819278707969,
           -0.6405455308205942,
           -0.5888533270393347,
           -0.6156577672114804,
           -0.5181302612337239,
           -0.49494003962474986,
           0.02230701664671691,
           -0.7050500942891097,
           -0.5392797377907537,
           0.050818864464179256,
           0.014563050346893106,
           -0.6885198080973892,
           -0.4462755091180215,
           -0.42210170567788824,
           -0.4192804578709597,
           -0.2418941444158057,
           -0.6885251342413506,
           -0.45090575588314535,
           -0.09807796219399632
          ],
          [
           0.3153179663684098,
           -0.06223692912268439,
           0.19053499042510402,
           -0.28213480735407986,
           -0.2738443470346209,
           -0.3080077557480858,
           0.16305606609600506,
           -0.03171055668085403,
           -0.057112586225606825,
           -0.07074064257424821,
           1,
           0.08748857209164193,
           0.22029532754764616,
           0.02442237629005597,
           -0.1303991924454192,
           -0.11535889786309073,
           -0.18068448427977243,
           0.02544037446069099,
           -0.007526832491086545,
           0.20157214532535997,
           0.05568781991779975,
           -0.0432900460795101,
           -0.14121703993001514,
           0.14843359480736357,
           -0.20239379928534207,
           -0.19800722630542095,
           -0.27951217068585754,
           -0.09837943877690437,
           0.166145789381431,
           0.18749063246200554,
           0.23791179125204356
          ],
          [
           0.43935545692797284,
           -0.0006434755852255479,
           0.3104317690989269,
           -0.05148219203766232,
           0.02949930835304134,
           -0.05215068391133994,
           0.48448896972021466,
           -0.05272225530483608,
           -0.04118505593694218,
           -0.5863989781234574,
           0.08748857209164193,
           1,
           0.4883829965622872,
           0.29509579408652836,
           0.16170603570934344,
           0.20047529155213584,
           0.22443461493681507,
           0.23127486278851084,
           -0.1129717202300488,
           0.4991867112602222,
           0.23980783676678755,
           -0.08401871284301415,
           -0.141613178490758,
           0.42901750703334607,
           0.005400655934347931,
           -0.007945507790903188,
           0.12573417420242797,
           0.01908625280924143,
           0.4933406664081819,
           0.4250931552341866,
           0.5329125309256998
          ],
          [
           0.8422052248547206,
           -0.06362613797248538,
           0.37146262950335174,
           0.4250922471278553,
           0.4689726298693966,
           0.39944471302546286,
           0.9781426213649062,
           0.43599843623740264,
           0.40853668156594275,
           -0.6441819278707969,
           0.22029532754764616,
           0.4883829965622872,
           1,
           0.8438083865724096,
           0.7293584202470089,
           0.7451753376352392,
           0.5904181232700314,
           0.600651423487974,
           -0.002233790262573363,
           0.8701444321099174,
           0.5073100423671427,
           0.0679283760265466,
           0.2430676339155992,
           0.9736047402389241,
           0.375993701703966,
           0.37960747282927093,
           0.3978750817334987,
           0.17329538983381287,
           0.759276309784936,
           0.5624697061879358,
           0.1842412397483818
          ],
          [
           0.797036393994636,
           -0.08036499020752949,
           0.4440228781274831,
           0.7639300696963575,
           0.785769823071912,
           0.7459029690775416,
           0.8533141328234519,
           0.4350233521472578,
           0.4178816224054406,
           -0.6405455308205942,
           0.02442237629005597,
           0.29509579408652836,
           0.8438083865724096,
           1,
           0.9245955946139018,
           0.9292460466174032,
           0.7139965181113583,
           0.5639761933639479,
           -0.022565088316144434,
           0.712972895818291,
           0.507516222554586,
           0.07770217461424253,
           0.29101085361839446,
           0.9245603196457157,
           0.7245051815344259,
           0.8148811556303667,
           0.5774958707640911,
           0.21146374501166781,
           0.5999696299860707,
           0.3971030407211804,
           -0.05155389350812188
          ],
          [
           0.6773810585170537,
           -0.04898106717558443,
           0.33196560073987247,
           0.9233236955960574,
           0.9330968234520324,
           0.91681035422553,
           0.7656893001380448,
           0.3957923773714229,
           0.3841386572516044,
           -0.5888533270393347,
           -0.1303991924454192,
           0.16170603570934344,
           0.7293584202470089,
           0.9245955946139018,
           1,
           0.9930344290403816,
           0.8072301549591465,
           0.6549361958380123,
           -0.00605878233877052,
           0.6368784185302744,
           0.5333742602170234,
           0.12106072045970233,
           0.3460842829805464,
           0.8511747240201186,
           0.815434989829929,
           0.811039523816671,
           0.7128781142515536,
           0.3878339221596747,
           0.5488342308163282,
           0.2568819929844524,
           -0.2245096345956466
          ],
          [
           0.7018155819106155,
           -0.04726018708896792,
           0.34757039219231434,
           0.9068972580384553,
           0.9363336796864213,
           0.9000025074837037,
           0.7798292172934719,
           0.3664889081516936,
           0.35973632288634055,
           -0.6156577672114804,
           -0.11535889786309073,
           0.20047529155213584,
           0.7451753376352392,
           0.9292460466174032,
           0.9930344290403816,
           1,
           0.8088354835405983,
           0.6600571029861502,
           -0.015923976736141175,
           0.6579190542387391,
           0.5442160517547557,
           0.12908266711782115,
           0.3300652423263705,
           0.862066594286768,
           0.809341980254923,
           0.8031531240119639,
           0.7105216697474446,
           0.38656449052358,
           0.5722632445170942,
           0.2786263501087376,
           -0.19705425587885575
          ],
          [
           0.4935963676086325,
           -0.03564130973405399,
           0.2642939058120842,
           0.7308158261359945,
           0.761280495147575,
           0.7399789743402279,
           0.6407819501152359,
           0.32722282934919555,
           0.28807845530828674,
           -0.5181302612337239,
           -0.18068448427977243,
           0.22443461493681507,
           0.5904181232700314,
           0.7139965181113583,
           0.8072301549591465,
           0.8088354835405983,
           1,
           0.41233317404300807,
           0.017963851818295632,
           0.6157350403508225,
           0.5027675100732676,
           0.0736026068928932,
           0.1837860409994771,
           0.6695044025337065,
           0.5389142229126374,
           0.5937976981840154,
           0.9662825967581277,
           0.17078922833294619,
           0.5766584647235092,
           0.4128838983986284,
           -0.030762406614939602
          ],
          [
           0.5266566356165647,
           0.1338407066542424,
           0.1486177845251876,
           0.5539999111155903,
           0.5732943834446316,
           0.5389368536125985,
           0.6046563829688166,
           0.14648017562442353,
           0.16684743093312668,
           -0.49494003962474986,
           0.02544037446069099,
           0.23127486278851084,
           0.600651423487974,
           0.5639761933639479,
           0.6549361958380123,
           0.6600571029861502,
           0.41233317404300807,
           1,
           0.051026342693834936,
           0.49166994312603424,
           0.30898336313226765,
           0.0923477523382993,
           0.24876211761962347,
           0.6896239034456139,
           0.7249687291350115,
           0.3385512055159125,
           0.307793556276258,
           0.8879859879627666,
           0.4236870704962493,
           -0.14552619955309068,
           -0.14556326289277963
          ],
          [
           -0.07091487447280656,
           0.0218180941402,
           0.09221902864209174,
           -0.006442902305089225,
           -0.02006170530029629,
           -0.00787711306174891,
           -0.004039695954267121,
           -0.024123423833467016,
           -0.08148051449016132,
           0.02230701664671691,
           -0.007526832491086545,
           -0.1129717202300488,
           -0.002233790262573363,
           -0.022565088316144434,
           -0.00605878233877052,
           -0.015923976736141175,
           0.017963851818295632,
           0.051026342693834936,
           1,
           -0.04912271183103356,
           0.02566362370184653,
           -0.020036699159965747,
           -0.052776403154951884,
           -0.0014646772476605003,
           0.005801293808514418,
           -0.036503132070430426,
           0.016350947686703306,
           0.06460776147430228,
           -0.0600341056912203,
           -0.08392099908455923,
           -0.16275922425937814
          ],
          [
           0.8471551975531887,
           -0.09963839831840572,
           0.40203515706348675,
           0.3591415369006949,
           0.4191258941853475,
           0.35069070093823507,
           0.874070115356921,
           0.31012344541698034,
           0.29687117056652307,
           -0.7050500942891097,
           0.20157214532535997,
           0.4991867112602222,
           0.8701444321099174,
           0.712972895818291,
           0.6368784185302744,
           0.6579190542387391,
           0.6157350403508225,
           0.49166994312603424,
           -0.04912271183103356,
           1,
           0.5018983658515486,
           0.07014198565163245,
           0.2677088842842072,
           0.8487760646036677,
           0.2762401591382044,
           0.29364173961918294,
           0.4650450361952252,
           0.10242943027602021,
           0.9777414166481153,
           0.7797348676994397,
           0.260338660485226
          ],
          [
           0.5218453808070378,
           -0.04769126705622297,
           0.2778879612907075,
           0.42263959893715214,
           0.4584041115926517,
           0.4240451778911098,
           0.5285428781505563,
           0.10549526555997371,
           0.07909938068797125,
           -0.5392797377907537,
           0.05568781991779975,
           0.23980783676678755,
           0.5073100423671427,
           0.507516222554586,
           0.5333742602170234,
           0.5442160517547557,
           0.5027675100732676,
           0.30898336313226765,
           0.02566362370184653,
           0.5018983658515486,
           1,
           0.006234667790444402,
           0.10924643788870621,
           0.5526145005623908,
           0.2999263505223086,
           0.3284143750550921,
           0.4218129897174716,
           0.10223231920245311,
           0.4669131043453786,
           0.3588829065463481,
           -0.07371011734740043
          ],
          [
           0.036782625627472525,
           0.00793358667689804,
           -0.0864343282099396,
           0.11846043169712177,
           0.12495968342146693,
           0.11479672445703283,
           0.06826782001247293,
           0.23841294612715644,
           0.2360683766701636,
           0.050818864464179256,
           -0.0432900460795101,
           -0.08401871284301415,
           0.0679283760265466,
           0.07770217461424253,
           0.12106072045970233,
           0.12908266711782115,
           0.0736026068928932,
           0.0923477523382993,
           -0.020036699159965747,
           0.07014198565163245,
           0.006234667790444402,
           1,
           0.20359374492294016,
           0.08245532320642644,
           0.07675086403098877,
           0.05224371661738316,
           0.0640841465562511,
           0.06433620951090518,
           0.048067162537497016,
           -0.002875525805952251,
           -0.028438661810562073
          ],
          [
           0.18906103994236492,
           -0.06771733267928437,
           0.047240835593870587,
           0.30329225870836274,
           0.2859744353073609,
           0.30170348045051265,
           0.2565606292525054,
           0.5697710602376893,
           0.5624120427339457,
           0.014563050346893106,
           -0.14121703993001514,
           -0.141613178490758,
           0.2430676339155992,
           0.29101085361839446,
           0.3460842829805464,
           0.3300652423263705,
           0.1837860409994771,
           0.24876211761962347,
           -0.052776403154951884,
           0.2677088842842072,
           0.10924643788870621,
           0.20359374492294016,
           1,
           0.27534571332935215,
           0.2502314252565378,
           0.2251608157225635,
           0.13435810027445574,
           0.1492980185464025,
           0.22229560709038684,
           0.09424438867287915,
           -0.09235710270044656
          ],
          [
           0.858883902510308,
           -0.05745735680527111,
           0.3970257965738454,
           0.5992050520102211,
           0.6363497297698877,
           0.5775628792582574,
           0.9679145214276256,
           0.4229004184176048,
           0.40260120588160403,
           -0.6885198080973892,
           0.14843359480736357,
           0.42901750703334607,
           0.9736047402389241,
           0.9245603196457157,
           0.8511747240201186,
           0.862066594286768,
           0.6695044025337065,
           0.6896239034456139,
           -0.0014646772476605003,
           0.8487760646036677,
           0.5526145005623908,
           0.08245532320642644,
           0.27534571332935215,
           1,
           0.5678528152205748,
           0.5483883384879927,
           0.49362492694510246,
           0.29539117812592536,
           0.7385974083856192,
           0.47222324683237954,
           0.06569036715270618
          ],
          [
           0.4403754328835212,
           0.06592607805607015,
           0.25766585508827844,
           0.8816222221107913,
           0.8778412504246519,
           0.8776100487669144,
           0.41606680144011376,
           0.1479594359021142,
           0.17045206354481843,
           -0.4462755091180215,
           -0.20239379928534207,
           0.005400655934347931,
           0.375993701703966,
           0.7245051815344259,
           0.815434989829929,
           0.809341980254923,
           0.5389142229126374,
           0.7249687291350115,
           0.005801293808514418,
           0.2762401591382044,
           0.2999263505223086,
           0.07675086403098877,
           0.2502314252565378,
           0.5678528152205748,
           1,
           0.8535653605497838,
           0.508136426440465,
           0.6739774861835371,
           0.20986797200829868,
           -0.2108411356351903,
           -0.3733805812112469
          ],
          [
           0.4719887307583588,
           -0.05735145295636669,
           0.3674568771530437,
           0.8654638776969812,
           0.8575397509896072,
           0.8618016851115989,
           0.4191910703555131,
           0.2551956379480347,
           0.2588233349491799,
           -0.42210170567788824,
           -0.19800722630542095,
           -0.007945507790903188,
           0.37960747282927093,
           0.8148811556303667,
           0.811039523816671,
           0.8031531240119639,
           0.5937976981840154,
           0.3385512055159125,
           -0.036503132070430426,
           0.29364173961918294,
           0.3284143750550921,
           0.05224371661738316,
           0.2251608157225635,
           0.5483883384879927,
           0.8535653605497838,
           1,
           0.5662571362795852,
           0.19340321904914784,
           0.21941068872417224,
           0.0720715565833654,
           -0.2979880426901281
          ],
          [
           0.33302764038909416,
           -0.030079736467044947,
           0.20083878343016154,
           0.7071388979197377,
           0.7323461816810546,
           0.7268015378548514,
           0.46425454217501944,
           0.2344786019919949,
           0.20026078277492107,
           -0.4192804578709597,
           -0.27951217068585754,
           0.12573417420242797,
           0.3978750817334987,
           0.5774958707640911,
           0.7128781142515536,
           0.7105216697474446,
           0.9662825967581277,
           0.307793556276258,
           0.016350947686703306,
           0.4650450361952252,
           0.4218129897174716,
           0.0640841465562511,
           0.13435810027445574,
           0.49362492694510246,
           0.508136426440465,
           0.5662571362795852,
           1,
           0.15086903387122647,
           0.45462251233735423,
           0.319144730891142,
           -0.08438598179109277
          ],
          [
           0.16079163652552014,
           0.21833452830318295,
           -0.034379250173051615,
           0.436455373843722,
           0.43710336707835756,
           0.43170938596263025,
           0.18907169833481033,
           -0.08335384641452295,
           -0.044161653215332816,
           -0.2418941444158057,
           -0.09837943877690437,
           0.01908625280924143,
           0.17329538983381287,
           0.21146374501166781,
           0.3878339221596747,
           0.38656449052358,
           0.17078922833294619,
           0.8879859879627666,
           0.06460776147430228,
           0.10242943027602021,
           0.10223231920245311,
           0.06433620951090518,
           0.1492980185464025,
           0.29539117812592536,
           0.6739774861835371,
           0.19340321904914784,
           0.15086903387122647,
           1,
           0.08044997453466926,
           -0.5022342885697281,
           -0.2834393362709829
          ],
          [
           0.7812564499329838,
           -0.10977969643180051,
           0.369927675559031,
           0.2990006423943849,
           0.3667503382744382,
           0.30004253263161945,
           0.7759112465776079,
           0.1844619424119117,
           0.17925456812199514,
           -0.6885251342413506,
           0.166145789381431,
           0.4933406664081819,
           0.759276309784936,
           0.5999696299860707,
           0.5488342308163282,
           0.5722632445170942,
           0.5766584647235092,
           0.4236870704962493,
           -0.0600341056912203,
           0.9777414166481153,
           0.4669131043453786,
           0.048067162537497016,
           0.22229560709038684,
           0.7385974083856192,
           0.20986797200829868,
           0.21941068872417224,
           0.45462251233735423,
           0.08044997453466926,
           1,
           0.8085883742746977,
           0.2695369949177375
          ],
          [
           0.5667433924231524,
           -0.19568510652531074,
           0.3273777869758816,
           0.014129853212608795,
           0.07250261590045237,
           0.016406385344604223,
           0.5659815932728683,
           0.2101257509375917,
           0.18063030226142818,
           -0.45090575588314535,
           0.18749063246200554,
           0.4250931552341866,
           0.5624697061879358,
           0.3971030407211804,
           0.2568819929844524,
           0.2786263501087376,
           0.4128838983986284,
           -0.14552619955309068,
           -0.08392099908455923,
           0.7797348676994397,
           0.3588829065463481,
           -0.002875525805952251,
           0.09424438867287915,
           0.47222324683237954,
           -0.2108411356351903,
           0.0720715565833654,
           0.319144730891142,
           -0.5022342885697281,
           0.8085883742746977,
           1,
           0.3971495280172233
          ],
          [
           0.1281305534839186,
           -0.06447052285430876,
           0.13590661887318253,
           -0.3938347250845149,
           -0.36428231277916234,
           -0.415579349229177,
           0.1273014480871588,
           0.04763464462545534,
           0.05485453164759183,
           -0.09807796219399632,
           0.23791179125204356,
           0.5329125309256998,
           0.1842412397483818,
           -0.05155389350812188,
           -0.2245096345956466,
           -0.19705425587885575,
           -0.030762406614939602,
           -0.14556326289277963,
           -0.16275922425937814,
           0.260338660485226,
           -0.07371011734740043,
           -0.028438661810562073,
           -0.09235710270044656,
           0.06569036715270618,
           -0.3733805812112469,
           -0.2979880426901281,
           -0.08438598179109277,
           -0.2834393362709829,
           0.2695369949177375,
           0.3971495280172233,
           1
          ]
         ]
        }
       ],
       "layout": {
        "coloraxis": {
         "colorscale": [
          [
           0,
           "#0d0887"
          ],
          [
           0.1111111111111111,
           "#46039f"
          ],
          [
           0.2222222222222222,
           "#7201a8"
          ],
          [
           0.3333333333333333,
           "#9c179e"
          ],
          [
           0.4444444444444444,
           "#bd3786"
          ],
          [
           0.5555555555555556,
           "#d8576b"
          ],
          [
           0.6666666666666666,
           "#ed7953"
          ],
          [
           0.7777777777777778,
           "#fb9f3a"
          ],
          [
           0.8888888888888888,
           "#fdca26"
          ],
          [
           1,
           "#f0f921"
          ]
         ]
        },
        "margin": {
         "t": 60
        },
        "template": {
         "data": {
          "bar": [
           {
            "error_x": {
             "color": "#2a3f5f"
            },
            "error_y": {
             "color": "#2a3f5f"
            },
            "marker": {
             "line": {
              "color": "#E5ECF6",
              "width": 0.5
             },
             "pattern": {
              "fillmode": "overlay",
              "size": 10,
              "solidity": 0.2
             }
            },
            "type": "bar"
           }
          ],
          "barpolar": [
           {
            "marker": {
             "line": {
              "color": "#E5ECF6",
              "width": 0.5
             },
             "pattern": {
              "fillmode": "overlay",
              "size": 10,
              "solidity": 0.2
             }
            },
            "type": "barpolar"
           }
          ],
          "carpet": [
           {
            "aaxis": {
             "endlinecolor": "#2a3f5f",
             "gridcolor": "white",
             "linecolor": "white",
             "minorgridcolor": "white",
             "startlinecolor": "#2a3f5f"
            },
            "baxis": {
             "endlinecolor": "#2a3f5f",
             "gridcolor": "white",
             "linecolor": "white",
             "minorgridcolor": "white",
             "startlinecolor": "#2a3f5f"
            },
            "type": "carpet"
           }
          ],
          "choropleth": [
           {
            "colorbar": {
             "outlinewidth": 0,
             "ticks": ""
            },
            "type": "choropleth"
           }
          ],
          "contour": [
           {
            "colorbar": {
             "outlinewidth": 0,
             "ticks": ""
            },
            "colorscale": [
             [
              0,
              "#0d0887"
             ],
             [
              0.1111111111111111,
              "#46039f"
             ],
             [
              0.2222222222222222,
              "#7201a8"
             ],
             [
              0.3333333333333333,
              "#9c179e"
             ],
             [
              0.4444444444444444,
              "#bd3786"
             ],
             [
              0.5555555555555556,
              "#d8576b"
             ],
             [
              0.6666666666666666,
              "#ed7953"
             ],
             [
              0.7777777777777778,
              "#fb9f3a"
             ],
             [
              0.8888888888888888,
              "#fdca26"
             ],
             [
              1,
              "#f0f921"
             ]
            ],
            "type": "contour"
           }
          ],
          "contourcarpet": [
           {
            "colorbar": {
             "outlinewidth": 0,
             "ticks": ""
            },
            "type": "contourcarpet"
           }
          ],
          "heatmap": [
           {
            "colorbar": {
             "outlinewidth": 0,
             "ticks": ""
            },
            "colorscale": [
             [
              0,
              "#0d0887"
             ],
             [
              0.1111111111111111,
              "#46039f"
             ],
             [
              0.2222222222222222,
              "#7201a8"
             ],
             [
              0.3333333333333333,
              "#9c179e"
             ],
             [
              0.4444444444444444,
              "#bd3786"
             ],
             [
              0.5555555555555556,
              "#d8576b"
             ],
             [
              0.6666666666666666,
              "#ed7953"
             ],
             [
              0.7777777777777778,
              "#fb9f3a"
             ],
             [
              0.8888888888888888,
              "#fdca26"
             ],
             [
              1,
              "#f0f921"
             ]
            ],
            "type": "heatmap"
           }
          ],
          "heatmapgl": [
           {
            "colorbar": {
             "outlinewidth": 0,
             "ticks": ""
            },
            "colorscale": [
             [
              0,
              "#0d0887"
             ],
             [
              0.1111111111111111,
              "#46039f"
             ],
             [
              0.2222222222222222,
              "#7201a8"
             ],
             [
              0.3333333333333333,
              "#9c179e"
             ],
             [
              0.4444444444444444,
              "#bd3786"
             ],
             [
              0.5555555555555556,
              "#d8576b"
             ],
             [
              0.6666666666666666,
              "#ed7953"
             ],
             [
              0.7777777777777778,
              "#fb9f3a"
             ],
             [
              0.8888888888888888,
              "#fdca26"
             ],
             [
              1,
              "#f0f921"
             ]
            ],
            "type": "heatmapgl"
           }
          ],
          "histogram": [
           {
            "marker": {
             "pattern": {
              "fillmode": "overlay",
              "size": 10,
              "solidity": 0.2
             }
            },
            "type": "histogram"
           }
          ],
          "histogram2d": [
           {
            "colorbar": {
             "outlinewidth": 0,
             "ticks": ""
            },
            "colorscale": [
             [
              0,
              "#0d0887"
             ],
             [
              0.1111111111111111,
              "#46039f"
             ],
             [
              0.2222222222222222,
              "#7201a8"
             ],
             [
              0.3333333333333333,
              "#9c179e"
             ],
             [
              0.4444444444444444,
              "#bd3786"
             ],
             [
              0.5555555555555556,
              "#d8576b"
             ],
             [
              0.6666666666666666,
              "#ed7953"
             ],
             [
              0.7777777777777778,
              "#fb9f3a"
             ],
             [
              0.8888888888888888,
              "#fdca26"
             ],
             [
              1,
              "#f0f921"
             ]
            ],
            "type": "histogram2d"
           }
          ],
          "histogram2dcontour": [
           {
            "colorbar": {
             "outlinewidth": 0,
             "ticks": ""
            },
            "colorscale": [
             [
              0,
              "#0d0887"
             ],
             [
              0.1111111111111111,
              "#46039f"
             ],
             [
              0.2222222222222222,
              "#7201a8"
             ],
             [
              0.3333333333333333,
              "#9c179e"
             ],
             [
              0.4444444444444444,
              "#bd3786"
             ],
             [
              0.5555555555555556,
              "#d8576b"
             ],
             [
              0.6666666666666666,
              "#ed7953"
             ],
             [
              0.7777777777777778,
              "#fb9f3a"
             ],
             [
              0.8888888888888888,
              "#fdca26"
             ],
             [
              1,
              "#f0f921"
             ]
            ],
            "type": "histogram2dcontour"
           }
          ],
          "mesh3d": [
           {
            "colorbar": {
             "outlinewidth": 0,
             "ticks": ""
            },
            "type": "mesh3d"
           }
          ],
          "parcoords": [
           {
            "line": {
             "colorbar": {
              "outlinewidth": 0,
              "ticks": ""
             }
            },
            "type": "parcoords"
           }
          ],
          "pie": [
           {
            "automargin": true,
            "type": "pie"
           }
          ],
          "scatter": [
           {
            "fillpattern": {
             "fillmode": "overlay",
             "size": 10,
             "solidity": 0.2
            },
            "type": "scatter"
           }
          ],
          "scatter3d": [
           {
            "line": {
             "colorbar": {
              "outlinewidth": 0,
              "ticks": ""
             }
            },
            "marker": {
             "colorbar": {
              "outlinewidth": 0,
              "ticks": ""
             }
            },
            "type": "scatter3d"
           }
          ],
          "scattercarpet": [
           {
            "marker": {
             "colorbar": {
              "outlinewidth": 0,
              "ticks": ""
             }
            },
            "type": "scattercarpet"
           }
          ],
          "scattergeo": [
           {
            "marker": {
             "colorbar": {
              "outlinewidth": 0,
              "ticks": ""
             }
            },
            "type": "scattergeo"
           }
          ],
          "scattergl": [
           {
            "marker": {
             "colorbar": {
              "outlinewidth": 0,
              "ticks": ""
             }
            },
            "type": "scattergl"
           }
          ],
          "scattermapbox": [
           {
            "marker": {
             "colorbar": {
              "outlinewidth": 0,
              "ticks": ""
             }
            },
            "type": "scattermapbox"
           }
          ],
          "scatterpolar": [
           {
            "marker": {
             "colorbar": {
              "outlinewidth": 0,
              "ticks": ""
             }
            },
            "type": "scatterpolar"
           }
          ],
          "scatterpolargl": [
           {
            "marker": {
             "colorbar": {
              "outlinewidth": 0,
              "ticks": ""
             }
            },
            "type": "scatterpolargl"
           }
          ],
          "scatterternary": [
           {
            "marker": {
             "colorbar": {
              "outlinewidth": 0,
              "ticks": ""
             }
            },
            "type": "scatterternary"
           }
          ],
          "surface": [
           {
            "colorbar": {
             "outlinewidth": 0,
             "ticks": ""
            },
            "colorscale": [
             [
              0,
              "#0d0887"
             ],
             [
              0.1111111111111111,
              "#46039f"
             ],
             [
              0.2222222222222222,
              "#7201a8"
             ],
             [
              0.3333333333333333,
              "#9c179e"
             ],
             [
              0.4444444444444444,
              "#bd3786"
             ],
             [
              0.5555555555555556,
              "#d8576b"
             ],
             [
              0.6666666666666666,
              "#ed7953"
             ],
             [
              0.7777777777777778,
              "#fb9f3a"
             ],
             [
              0.8888888888888888,
              "#fdca26"
             ],
             [
              1,
              "#f0f921"
             ]
            ],
            "type": "surface"
           }
          ],
          "table": [
           {
            "cells": {
             "fill": {
              "color": "#EBF0F8"
             },
             "line": {
              "color": "white"
             }
            },
            "header": {
             "fill": {
              "color": "#C8D4E3"
             },
             "line": {
              "color": "white"
             }
            },
            "type": "table"
           }
          ]
         },
         "layout": {
          "annotationdefaults": {
           "arrowcolor": "#2a3f5f",
           "arrowhead": 0,
           "arrowwidth": 1
          },
          "autotypenumbers": "strict",
          "coloraxis": {
           "colorbar": {
            "outlinewidth": 0,
            "ticks": ""
           }
          },
          "colorscale": {
           "diverging": [
            [
             0,
             "#8e0152"
            ],
            [
             0.1,
             "#c51b7d"
            ],
            [
             0.2,
             "#de77ae"
            ],
            [
             0.3,
             "#f1b6da"
            ],
            [
             0.4,
             "#fde0ef"
            ],
            [
             0.5,
             "#f7f7f7"
            ],
            [
             0.6,
             "#e6f5d0"
            ],
            [
             0.7,
             "#b8e186"
            ],
            [
             0.8,
             "#7fbc41"
            ],
            [
             0.9,
             "#4d9221"
            ],
            [
             1,
             "#276419"
            ]
           ],
           "sequential": [
            [
             0,
             "#0d0887"
            ],
            [
             0.1111111111111111,
             "#46039f"
            ],
            [
             0.2222222222222222,
             "#7201a8"
            ],
            [
             0.3333333333333333,
             "#9c179e"
            ],
            [
             0.4444444444444444,
             "#bd3786"
            ],
            [
             0.5555555555555556,
             "#d8576b"
            ],
            [
             0.6666666666666666,
             "#ed7953"
            ],
            [
             0.7777777777777778,
             "#fb9f3a"
            ],
            [
             0.8888888888888888,
             "#fdca26"
            ],
            [
             1,
             "#f0f921"
            ]
           ],
           "sequentialminus": [
            [
             0,
             "#0d0887"
            ],
            [
             0.1111111111111111,
             "#46039f"
            ],
            [
             0.2222222222222222,
             "#7201a8"
            ],
            [
             0.3333333333333333,
             "#9c179e"
            ],
            [
             0.4444444444444444,
             "#bd3786"
            ],
            [
             0.5555555555555556,
             "#d8576b"
            ],
            [
             0.6666666666666666,
             "#ed7953"
            ],
            [
             0.7777777777777778,
             "#fb9f3a"
            ],
            [
             0.8888888888888888,
             "#fdca26"
            ],
            [
             1,
             "#f0f921"
            ]
           ]
          },
          "colorway": [
           "#636efa",
           "#EF553B",
           "#00cc96",
           "#ab63fa",
           "#FFA15A",
           "#19d3f3",
           "#FF6692",
           "#B6E880",
           "#FF97FF",
           "#FECB52"
          ],
          "font": {
           "color": "#2a3f5f"
          },
          "geo": {
           "bgcolor": "white",
           "lakecolor": "white",
           "landcolor": "#E5ECF6",
           "showlakes": true,
           "showland": true,
           "subunitcolor": "white"
          },
          "hoverlabel": {
           "align": "left"
          },
          "hovermode": "closest",
          "mapbox": {
           "style": "light"
          },
          "paper_bgcolor": "white",
          "plot_bgcolor": "#E5ECF6",
          "polar": {
           "angularaxis": {
            "gridcolor": "white",
            "linecolor": "white",
            "ticks": ""
           },
           "bgcolor": "#E5ECF6",
           "radialaxis": {
            "gridcolor": "white",
            "linecolor": "white",
            "ticks": ""
           }
          },
          "scene": {
           "xaxis": {
            "backgroundcolor": "#E5ECF6",
            "gridcolor": "white",
            "gridwidth": 2,
            "linecolor": "white",
            "showbackground": true,
            "ticks": "",
            "zerolinecolor": "white"
           },
           "yaxis": {
            "backgroundcolor": "#E5ECF6",
            "gridcolor": "white",
            "gridwidth": 2,
            "linecolor": "white",
            "showbackground": true,
            "ticks": "",
            "zerolinecolor": "white"
           },
           "zaxis": {
            "backgroundcolor": "#E5ECF6",
            "gridcolor": "white",
            "gridwidth": 2,
            "linecolor": "white",
            "showbackground": true,
            "ticks": "",
            "zerolinecolor": "white"
           }
          },
          "shapedefaults": {
           "line": {
            "color": "#2a3f5f"
           }
          },
          "ternary": {
           "aaxis": {
            "gridcolor": "white",
            "linecolor": "white",
            "ticks": ""
           },
           "baxis": {
            "gridcolor": "white",
            "linecolor": "white",
            "ticks": ""
           },
           "bgcolor": "#E5ECF6",
           "caxis": {
            "gridcolor": "white",
            "linecolor": "white",
            "ticks": ""
           }
          },
          "title": {
           "x": 0.05
          },
          "xaxis": {
           "automargin": true,
           "gridcolor": "white",
           "linecolor": "white",
           "ticks": "",
           "title": {
            "standoff": 15
           },
           "zerolinecolor": "white",
           "zerolinewidth": 2
          },
          "yaxis": {
           "automargin": true,
           "gridcolor": "white",
           "linecolor": "white",
           "ticks": "",
           "title": {
            "standoff": 15
           },
           "zerolinecolor": "white",
           "zerolinewidth": 2
          }
         }
        },
        "xaxis": {
         "anchor": "y",
         "constrain": "domain",
         "domain": [
          0,
          1
         ],
         "scaleanchor": "y"
        },
        "yaxis": {
         "anchor": "x",
         "autorange": "reversed",
         "constrain": "domain",
         "domain": [
          0,
          1
         ]
        }
       }
      },
      "text/html": [
       "<div>                            <div id=\"c1b86e73-dfef-4701-bee3-e244de2de701\" class=\"plotly-graph-div\" style=\"height:525px; width:100%;\"></div>            <script type=\"text/javascript\">                require([\"plotly\"], function(Plotly) {                    window.PLOTLYENV=window.PLOTLYENV || {};                                    if (document.getElementById(\"c1b86e73-dfef-4701-bee3-e244de2de701\")) {                    Plotly.newPlot(                        \"c1b86e73-dfef-4701-bee3-e244de2de701\",                        [{\"coloraxis\":\"coloraxis\",\"name\":\"0\",\"x\":[\"year\",\"team\",\"average_age\",\"runs_per_game\",\"ERA\",\"run_average_9\",\"games\",\"games_started\",\"games_finished\",\"complete_game\",\"shutouts\",\"saves\",\"innings_pitched\",\"hits\",\"runs\",\"earned_runs\",\"home_runs\",\"walks\",\"intentional_walks\",\"strikeouts\",\"hit_batter\",\"balks\",\"wild_pitches\",\"batters_faced\",\"WHIP\",\"hits_9\",\"homeruns_9\",\"walks_9\",\"strikeouts_9\",\"strikeout_walk\",\"Win_pct\"],\"y\":[\"year\",\"team\",\"average_age\",\"runs_per_game\",\"ERA\",\"run_average_9\",\"games\",\"games_started\",\"games_finished\",\"complete_game\",\"shutouts\",\"saves\",\"innings_pitched\",\"hits\",\"runs\",\"earned_runs\",\"home_runs\",\"walks\",\"intentional_walks\",\"strikeouts\",\"hit_batter\",\"balks\",\"wild_pitches\",\"batters_faced\",\"WHIP\",\"hits_9\",\"homeruns_9\",\"walks_9\",\"strikeouts_9\",\"strikeout_walk\",\"Win_pct\"],\"z\":[[1.0,-0.08373076463782002,0.5599394063088429,0.4334466924724558,0.49018495694386216,0.4194074331445036,0.841576424463127,0.21885249469279927,0.2302924049260825,-0.7953565912201015,0.3153179663684098,0.43935545692797284,0.8422052248547206,0.797036393994636,0.6773810585170537,0.7018155819106155,0.4935963676086325,0.5266566356165647,-0.07091487447280656,0.8471551975531887,0.5218453808070378,0.036782625627472525,0.18906103994236492,0.858883902510308,0.4403754328835212,0.4719887307583588,0.33302764038909416,0.16079163652552014,0.7812564499329838,0.5667433924231524,0.1281305534839186],[-0.08373076463782002,1.0,-0.09674362622983466,-0.017144008914687626,-0.021208973690035764,-0.021998262130220603,-0.07193564264905061,-0.013701279276621518,0.03390093955407644,0.03265704284109603,-0.06223692912268439,-0.0006434755852255479,-0.06362613797248538,-0.08036499020752949,-0.04898106717558443,-0.04726018708896792,-0.03564130973405399,0.1338407066542424,0.0218180941402,-0.09963839831840572,-0.04769126705622297,0.00793358667689804,-0.06771733267928437,-0.05745735680527111,0.06592607805607015,-0.05735145295636669,-0.030079736467044947,0.21833452830318295,-0.10977969643180051,-0.19568510652531074,-0.06447052285430876],[0.5599394063088429,-0.09674362622983466,1.0,0.24548852379580646,0.25876703876227153,0.22364620798818236,0.3486085796993068,0.023105484091446266,0.009185411550458784,-0.49714664482073617,0.19053499042510402,0.3104317690989269,0.37146262950335174,0.4440228781274831,0.33196560073987247,0.34757039219231434,0.2642939058120842,0.1486177845251876,0.09221902864209174,0.40203515706348675,0.2778879612907075,-0.0864343282099396,0.047240835593870587,0.3970257965738454,0.25766585508827844,0.3674568771530437,0.20083878343016154,-0.034379250173051615,0.369927675559031,0.3273777869758816,0.13590661887318253],[0.4334466924724558,-0.017144008914687626,0.24548852379580646,1.0,0.9781304840605386,0.9921999428811137,0.4636637451153304,0.24807328762978423,0.2522631909092544,-0.4277299828679807,-0.28213480735407986,-0.05148219203766232,0.4250922471278553,0.7639300696963575,0.9233236955960574,0.9068972580384553,0.7308158261359945,0.5539999111155903,-0.006442902305089225,0.3591415369006949,0.42263959893715214,0.11846043169712177,0.30329225870836274,0.5992050520102211,0.8816222221107913,0.8654638776969812,0.7071388979197377,0.436455373843722,0.2990006423943849,0.014129853212608795,-0.3938347250845149],[0.49018495694386216,-0.021208973690035764,0.25876703876227153,0.9781304840605386,1.0,0.9841887529155012,0.5286201840116466,0.22322469600952466,0.23015870392499777,-0.4909518526546392,-0.2738443470346209,0.02949930835304134,0.4689726298693966,0.785769823071912,0.9330968234520324,0.9363336796864213,0.761280495147575,0.5732943834446316,-0.02006170530029629,0.4191258941853475,0.4584041115926517,0.12495968342146693,0.2859744353073609,0.6363497297698877,0.8778412504246519,0.8575397509896072,0.7323461816810546,0.43710336707835756,0.3667503382744382,0.07250261590045237,-0.36428231277916234],[0.4194074331445036,-0.021998262130220603,0.22364620798818236,0.9921999428811137,0.9841887529155012,1.0,0.46305701914830566,0.24889548421254895,0.2502565902247616,-0.4262535431334112,-0.3080077557480858,-0.05215068391133994,0.39944471302546286,0.7459029690775416,0.91681035422553,0.9000025074837037,0.7399789743402279,0.5389368536125985,-0.00787711306174891,0.35069070093823507,0.4240451778911098,0.11479672445703283,0.30170348045051265,0.5775628792582574,0.8776100487669144,0.8618016851115989,0.7268015378548514,0.43170938596263025,0.30004253263161945,0.016406385344604223,-0.415579349229177],[0.841576424463127,-0.07193564264905061,0.3486085796993068,0.4636637451153304,0.5286201840116466,0.46305701914830566,1.0,0.4522187786582574,0.42025971470096574,-0.6632396048642958,0.16305606609600506,0.48448896972021466,0.9781426213649062,0.8533141328234519,0.7656893001380448,0.7798292172934719,0.6407819501152359,0.6046563829688166,-0.004039695954267121,0.874070115356921,0.5285428781505563,0.06826782001247293,0.2565606292525054,0.9679145214276256,0.41606680144011376,0.4191910703555131,0.46425454217501944,0.18907169833481033,0.7759112465776079,0.5659815932728683,0.1273014480871588],[0.21885249469279927,-0.013701279276621518,0.023105484091446266,0.24807328762978423,0.22322469600952466,0.24889548421254895,0.4522187786582574,1.0,0.9436986840874071,0.046500834954615176,-0.03171055668085403,-0.05272225530483608,0.43599843623740264,0.4350233521472578,0.3957923773714229,0.3664889081516936,0.32722282934919555,0.14648017562442353,-0.024123423833467016,0.31012344541698034,0.10549526555997371,0.23841294612715644,0.5697710602376893,0.4229004184176048,0.1479594359021142,0.2551956379480347,0.2344786019919949,-0.08335384641452295,0.1844619424119117,0.2101257509375917,0.04763464462545534],[0.2302924049260825,0.03390093955407644,0.009185411550458784,0.2522631909092544,0.23015870392499777,0.2502565902247616,0.42025971470096574,0.9436986840874071,1.0,-0.007060764344065707,-0.057112586225606825,-0.04118505593694218,0.40853668156594275,0.4178816224054406,0.3841386572516044,0.35973632288634055,0.28807845530828674,0.16684743093312668,-0.08148051449016132,0.29687117056652307,0.07909938068797125,0.2360683766701636,0.5624120427339457,0.40260120588160403,0.17045206354481843,0.2588233349491799,0.20026078277492107,-0.044161653215332816,0.17925456812199514,0.18063030226142818,0.05485453164759183],[-0.7953565912201015,0.03265704284109603,-0.49714664482073617,-0.4277299828679807,-0.4909518526546392,-0.4262535431334112,-0.6632396048642958,0.046500834954615176,-0.007060764344065707,1.0,-0.07074064257424821,-0.5863989781234574,-0.6441819278707969,-0.6405455308205942,-0.5888533270393347,-0.6156577672114804,-0.5181302612337239,-0.49494003962474986,0.02230701664671691,-0.7050500942891097,-0.5392797377907537,0.050818864464179256,0.014563050346893106,-0.6885198080973892,-0.4462755091180215,-0.42210170567788824,-0.4192804578709597,-0.2418941444158057,-0.6885251342413506,-0.45090575588314535,-0.09807796219399632],[0.3153179663684098,-0.06223692912268439,0.19053499042510402,-0.28213480735407986,-0.2738443470346209,-0.3080077557480858,0.16305606609600506,-0.03171055668085403,-0.057112586225606825,-0.07074064257424821,1.0,0.08748857209164193,0.22029532754764616,0.02442237629005597,-0.1303991924454192,-0.11535889786309073,-0.18068448427977243,0.02544037446069099,-0.007526832491086545,0.20157214532535997,0.05568781991779975,-0.0432900460795101,-0.14121703993001514,0.14843359480736357,-0.20239379928534207,-0.19800722630542095,-0.27951217068585754,-0.09837943877690437,0.166145789381431,0.18749063246200554,0.23791179125204356],[0.43935545692797284,-0.0006434755852255479,0.3104317690989269,-0.05148219203766232,0.02949930835304134,-0.05215068391133994,0.48448896972021466,-0.05272225530483608,-0.04118505593694218,-0.5863989781234574,0.08748857209164193,1.0,0.4883829965622872,0.29509579408652836,0.16170603570934344,0.20047529155213584,0.22443461493681507,0.23127486278851084,-0.1129717202300488,0.4991867112602222,0.23980783676678755,-0.08401871284301415,-0.141613178490758,0.42901750703334607,0.005400655934347931,-0.007945507790903188,0.12573417420242797,0.01908625280924143,0.4933406664081819,0.4250931552341866,0.5329125309256998],[0.8422052248547206,-0.06362613797248538,0.37146262950335174,0.4250922471278553,0.4689726298693966,0.39944471302546286,0.9781426213649062,0.43599843623740264,0.40853668156594275,-0.6441819278707969,0.22029532754764616,0.4883829965622872,1.0,0.8438083865724096,0.7293584202470089,0.7451753376352392,0.5904181232700314,0.600651423487974,-0.002233790262573363,0.8701444321099174,0.5073100423671427,0.0679283760265466,0.2430676339155992,0.9736047402389241,0.375993701703966,0.37960747282927093,0.3978750817334987,0.17329538983381287,0.759276309784936,0.5624697061879358,0.1842412397483818],[0.797036393994636,-0.08036499020752949,0.4440228781274831,0.7639300696963575,0.785769823071912,0.7459029690775416,0.8533141328234519,0.4350233521472578,0.4178816224054406,-0.6405455308205942,0.02442237629005597,0.29509579408652836,0.8438083865724096,1.0,0.9245955946139018,0.9292460466174032,0.7139965181113583,0.5639761933639479,-0.022565088316144434,0.712972895818291,0.507516222554586,0.07770217461424253,0.29101085361839446,0.9245603196457157,0.7245051815344259,0.8148811556303667,0.5774958707640911,0.21146374501166781,0.5999696299860707,0.3971030407211804,-0.05155389350812188],[0.6773810585170537,-0.04898106717558443,0.33196560073987247,0.9233236955960574,0.9330968234520324,0.91681035422553,0.7656893001380448,0.3957923773714229,0.3841386572516044,-0.5888533270393347,-0.1303991924454192,0.16170603570934344,0.7293584202470089,0.9245955946139018,1.0,0.9930344290403816,0.8072301549591465,0.6549361958380123,-0.00605878233877052,0.6368784185302744,0.5333742602170234,0.12106072045970233,0.3460842829805464,0.8511747240201186,0.815434989829929,0.811039523816671,0.7128781142515536,0.3878339221596747,0.5488342308163282,0.2568819929844524,-0.2245096345956466],[0.7018155819106155,-0.04726018708896792,0.34757039219231434,0.9068972580384553,0.9363336796864213,0.9000025074837037,0.7798292172934719,0.3664889081516936,0.35973632288634055,-0.6156577672114804,-0.11535889786309073,0.20047529155213584,0.7451753376352392,0.9292460466174032,0.9930344290403816,1.0,0.8088354835405983,0.6600571029861502,-0.015923976736141175,0.6579190542387391,0.5442160517547557,0.12908266711782115,0.3300652423263705,0.862066594286768,0.809341980254923,0.8031531240119639,0.7105216697474446,0.38656449052358,0.5722632445170942,0.2786263501087376,-0.19705425587885575],[0.4935963676086325,-0.03564130973405399,0.2642939058120842,0.7308158261359945,0.761280495147575,0.7399789743402279,0.6407819501152359,0.32722282934919555,0.28807845530828674,-0.5181302612337239,-0.18068448427977243,0.22443461493681507,0.5904181232700314,0.7139965181113583,0.8072301549591465,0.8088354835405983,1.0,0.41233317404300807,0.017963851818295632,0.6157350403508225,0.5027675100732676,0.0736026068928932,0.1837860409994771,0.6695044025337065,0.5389142229126374,0.5937976981840154,0.9662825967581277,0.17078922833294619,0.5766584647235092,0.4128838983986284,-0.030762406614939602],[0.5266566356165647,0.1338407066542424,0.1486177845251876,0.5539999111155903,0.5732943834446316,0.5389368536125985,0.6046563829688166,0.14648017562442353,0.16684743093312668,-0.49494003962474986,0.02544037446069099,0.23127486278851084,0.600651423487974,0.5639761933639479,0.6549361958380123,0.6600571029861502,0.41233317404300807,1.0,0.051026342693834936,0.49166994312603424,0.30898336313226765,0.0923477523382993,0.24876211761962347,0.6896239034456139,0.7249687291350115,0.3385512055159125,0.307793556276258,0.8879859879627666,0.4236870704962493,-0.14552619955309068,-0.14556326289277963],[-0.07091487447280656,0.0218180941402,0.09221902864209174,-0.006442902305089225,-0.02006170530029629,-0.00787711306174891,-0.004039695954267121,-0.024123423833467016,-0.08148051449016132,0.02230701664671691,-0.007526832491086545,-0.1129717202300488,-0.002233790262573363,-0.022565088316144434,-0.00605878233877052,-0.015923976736141175,0.017963851818295632,0.051026342693834936,1.0,-0.04912271183103356,0.02566362370184653,-0.020036699159965747,-0.052776403154951884,-0.0014646772476605003,0.005801293808514418,-0.036503132070430426,0.016350947686703306,0.06460776147430228,-0.0600341056912203,-0.08392099908455923,-0.16275922425937814],[0.8471551975531887,-0.09963839831840572,0.40203515706348675,0.3591415369006949,0.4191258941853475,0.35069070093823507,0.874070115356921,0.31012344541698034,0.29687117056652307,-0.7050500942891097,0.20157214532535997,0.4991867112602222,0.8701444321099174,0.712972895818291,0.6368784185302744,0.6579190542387391,0.6157350403508225,0.49166994312603424,-0.04912271183103356,1.0,0.5018983658515486,0.07014198565163245,0.2677088842842072,0.8487760646036677,0.2762401591382044,0.29364173961918294,0.4650450361952252,0.10242943027602021,0.9777414166481153,0.7797348676994397,0.260338660485226],[0.5218453808070378,-0.04769126705622297,0.2778879612907075,0.42263959893715214,0.4584041115926517,0.4240451778911098,0.5285428781505563,0.10549526555997371,0.07909938068797125,-0.5392797377907537,0.05568781991779975,0.23980783676678755,0.5073100423671427,0.507516222554586,0.5333742602170234,0.5442160517547557,0.5027675100732676,0.30898336313226765,0.02566362370184653,0.5018983658515486,1.0,0.006234667790444402,0.10924643788870621,0.5526145005623908,0.2999263505223086,0.3284143750550921,0.4218129897174716,0.10223231920245311,0.4669131043453786,0.3588829065463481,-0.07371011734740043],[0.036782625627472525,0.00793358667689804,-0.0864343282099396,0.11846043169712177,0.12495968342146693,0.11479672445703283,0.06826782001247293,0.23841294612715644,0.2360683766701636,0.050818864464179256,-0.0432900460795101,-0.08401871284301415,0.0679283760265466,0.07770217461424253,0.12106072045970233,0.12908266711782115,0.0736026068928932,0.0923477523382993,-0.020036699159965747,0.07014198565163245,0.006234667790444402,1.0,0.20359374492294016,0.08245532320642644,0.07675086403098877,0.05224371661738316,0.0640841465562511,0.06433620951090518,0.048067162537497016,-0.002875525805952251,-0.028438661810562073],[0.18906103994236492,-0.06771733267928437,0.047240835593870587,0.30329225870836274,0.2859744353073609,0.30170348045051265,0.2565606292525054,0.5697710602376893,0.5624120427339457,0.014563050346893106,-0.14121703993001514,-0.141613178490758,0.2430676339155992,0.29101085361839446,0.3460842829805464,0.3300652423263705,0.1837860409994771,0.24876211761962347,-0.052776403154951884,0.2677088842842072,0.10924643788870621,0.20359374492294016,1.0,0.27534571332935215,0.2502314252565378,0.2251608157225635,0.13435810027445574,0.1492980185464025,0.22229560709038684,0.09424438867287915,-0.09235710270044656],[0.858883902510308,-0.05745735680527111,0.3970257965738454,0.5992050520102211,0.6363497297698877,0.5775628792582574,0.9679145214276256,0.4229004184176048,0.40260120588160403,-0.6885198080973892,0.14843359480736357,0.42901750703334607,0.9736047402389241,0.9245603196457157,0.8511747240201186,0.862066594286768,0.6695044025337065,0.6896239034456139,-0.0014646772476605003,0.8487760646036677,0.5526145005623908,0.08245532320642644,0.27534571332935215,1.0,0.5678528152205748,0.5483883384879927,0.49362492694510246,0.29539117812592536,0.7385974083856192,0.47222324683237954,0.06569036715270618],[0.4403754328835212,0.06592607805607015,0.25766585508827844,0.8816222221107913,0.8778412504246519,0.8776100487669144,0.41606680144011376,0.1479594359021142,0.17045206354481843,-0.4462755091180215,-0.20239379928534207,0.005400655934347931,0.375993701703966,0.7245051815344259,0.815434989829929,0.809341980254923,0.5389142229126374,0.7249687291350115,0.005801293808514418,0.2762401591382044,0.2999263505223086,0.07675086403098877,0.2502314252565378,0.5678528152205748,1.0,0.8535653605497838,0.508136426440465,0.6739774861835371,0.20986797200829868,-0.2108411356351903,-0.3733805812112469],[0.4719887307583588,-0.05735145295636669,0.3674568771530437,0.8654638776969812,0.8575397509896072,0.8618016851115989,0.4191910703555131,0.2551956379480347,0.2588233349491799,-0.42210170567788824,-0.19800722630542095,-0.007945507790903188,0.37960747282927093,0.8148811556303667,0.811039523816671,0.8031531240119639,0.5937976981840154,0.3385512055159125,-0.036503132070430426,0.29364173961918294,0.3284143750550921,0.05224371661738316,0.2251608157225635,0.5483883384879927,0.8535653605497838,1.0,0.5662571362795852,0.19340321904914784,0.21941068872417224,0.0720715565833654,-0.2979880426901281],[0.33302764038909416,-0.030079736467044947,0.20083878343016154,0.7071388979197377,0.7323461816810546,0.7268015378548514,0.46425454217501944,0.2344786019919949,0.20026078277492107,-0.4192804578709597,-0.27951217068585754,0.12573417420242797,0.3978750817334987,0.5774958707640911,0.7128781142515536,0.7105216697474446,0.9662825967581277,0.307793556276258,0.016350947686703306,0.4650450361952252,0.4218129897174716,0.0640841465562511,0.13435810027445574,0.49362492694510246,0.508136426440465,0.5662571362795852,1.0,0.15086903387122647,0.45462251233735423,0.319144730891142,-0.08438598179109277],[0.16079163652552014,0.21833452830318295,-0.034379250173051615,0.436455373843722,0.43710336707835756,0.43170938596263025,0.18907169833481033,-0.08335384641452295,-0.044161653215332816,-0.2418941444158057,-0.09837943877690437,0.01908625280924143,0.17329538983381287,0.21146374501166781,0.3878339221596747,0.38656449052358,0.17078922833294619,0.8879859879627666,0.06460776147430228,0.10242943027602021,0.10223231920245311,0.06433620951090518,0.1492980185464025,0.29539117812592536,0.6739774861835371,0.19340321904914784,0.15086903387122647,1.0,0.08044997453466926,-0.5022342885697281,-0.2834393362709829],[0.7812564499329838,-0.10977969643180051,0.369927675559031,0.2990006423943849,0.3667503382744382,0.30004253263161945,0.7759112465776079,0.1844619424119117,0.17925456812199514,-0.6885251342413506,0.166145789381431,0.4933406664081819,0.759276309784936,0.5999696299860707,0.5488342308163282,0.5722632445170942,0.5766584647235092,0.4236870704962493,-0.0600341056912203,0.9777414166481153,0.4669131043453786,0.048067162537497016,0.22229560709038684,0.7385974083856192,0.20986797200829868,0.21941068872417224,0.45462251233735423,0.08044997453466926,1.0,0.8085883742746977,0.2695369949177375],[0.5667433924231524,-0.19568510652531074,0.3273777869758816,0.014129853212608795,0.07250261590045237,0.016406385344604223,0.5659815932728683,0.2101257509375917,0.18063030226142818,-0.45090575588314535,0.18749063246200554,0.4250931552341866,0.5624697061879358,0.3971030407211804,0.2568819929844524,0.2786263501087376,0.4128838983986284,-0.14552619955309068,-0.08392099908455923,0.7797348676994397,0.3588829065463481,-0.002875525805952251,0.09424438867287915,0.47222324683237954,-0.2108411356351903,0.0720715565833654,0.319144730891142,-0.5022342885697281,0.8085883742746977,1.0,0.3971495280172233],[0.1281305534839186,-0.06447052285430876,0.13590661887318253,-0.3938347250845149,-0.36428231277916234,-0.415579349229177,0.1273014480871588,0.04763464462545534,0.05485453164759183,-0.09807796219399632,0.23791179125204356,0.5329125309256998,0.1842412397483818,-0.05155389350812188,-0.2245096345956466,-0.19705425587885575,-0.030762406614939602,-0.14556326289277963,-0.16275922425937814,0.260338660485226,-0.07371011734740043,-0.028438661810562073,-0.09235710270044656,0.06569036715270618,-0.3733805812112469,-0.2979880426901281,-0.08438598179109277,-0.2834393362709829,0.2695369949177375,0.3971495280172233,1.0]],\"type\":\"heatmap\",\"xaxis\":\"x\",\"yaxis\":\"y\",\"hovertemplate\":\"x: %{x}\\u003cbr\\u003ey: %{y}\\u003cbr\\u003ecolor: %{z}\\u003cextra\\u003e\\u003c\\u002fextra\\u003e\"}],                        {\"template\":{\"data\":{\"histogram2dcontour\":[{\"type\":\"histogram2dcontour\",\"colorbar\":{\"outlinewidth\":0,\"ticks\":\"\"},\"colorscale\":[[0.0,\"#0d0887\"],[0.1111111111111111,\"#46039f\"],[0.2222222222222222,\"#7201a8\"],[0.3333333333333333,\"#9c179e\"],[0.4444444444444444,\"#bd3786\"],[0.5555555555555556,\"#d8576b\"],[0.6666666666666666,\"#ed7953\"],[0.7777777777777778,\"#fb9f3a\"],[0.8888888888888888,\"#fdca26\"],[1.0,\"#f0f921\"]]}],\"choropleth\":[{\"type\":\"choropleth\",\"colorbar\":{\"outlinewidth\":0,\"ticks\":\"\"}}],\"histogram2d\":[{\"type\":\"histogram2d\",\"colorbar\":{\"outlinewidth\":0,\"ticks\":\"\"},\"colorscale\":[[0.0,\"#0d0887\"],[0.1111111111111111,\"#46039f\"],[0.2222222222222222,\"#7201a8\"],[0.3333333333333333,\"#9c179e\"],[0.4444444444444444,\"#bd3786\"],[0.5555555555555556,\"#d8576b\"],[0.6666666666666666,\"#ed7953\"],[0.7777777777777778,\"#fb9f3a\"],[0.8888888888888888,\"#fdca26\"],[1.0,\"#f0f921\"]]}],\"heatmap\":[{\"type\":\"heatmap\",\"colorbar\":{\"outlinewidth\":0,\"ticks\":\"\"},\"colorscale\":[[0.0,\"#0d0887\"],[0.1111111111111111,\"#46039f\"],[0.2222222222222222,\"#7201a8\"],[0.3333333333333333,\"#9c179e\"],[0.4444444444444444,\"#bd3786\"],[0.5555555555555556,\"#d8576b\"],[0.6666666666666666,\"#ed7953\"],[0.7777777777777778,\"#fb9f3a\"],[0.8888888888888888,\"#fdca26\"],[1.0,\"#f0f921\"]]}],\"heatmapgl\":[{\"type\":\"heatmapgl\",\"colorbar\":{\"outlinewidth\":0,\"ticks\":\"\"},\"colorscale\":[[0.0,\"#0d0887\"],[0.1111111111111111,\"#46039f\"],[0.2222222222222222,\"#7201a8\"],[0.3333333333333333,\"#9c179e\"],[0.4444444444444444,\"#bd3786\"],[0.5555555555555556,\"#d8576b\"],[0.6666666666666666,\"#ed7953\"],[0.7777777777777778,\"#fb9f3a\"],[0.8888888888888888,\"#fdca26\"],[1.0,\"#f0f921\"]]}],\"contourcarpet\":[{\"type\":\"contourcarpet\",\"colorbar\":{\"outlinewidth\":0,\"ticks\":\"\"}}],\"contour\":[{\"type\":\"contour\",\"colorbar\":{\"outlinewidth\":0,\"ticks\":\"\"},\"colorscale\":[[0.0,\"#0d0887\"],[0.1111111111111111,\"#46039f\"],[0.2222222222222222,\"#7201a8\"],[0.3333333333333333,\"#9c179e\"],[0.4444444444444444,\"#bd3786\"],[0.5555555555555556,\"#d8576b\"],[0.6666666666666666,\"#ed7953\"],[0.7777777777777778,\"#fb9f3a\"],[0.8888888888888888,\"#fdca26\"],[1.0,\"#f0f921\"]]}],\"surface\":[{\"type\":\"surface\",\"colorbar\":{\"outlinewidth\":0,\"ticks\":\"\"},\"colorscale\":[[0.0,\"#0d0887\"],[0.1111111111111111,\"#46039f\"],[0.2222222222222222,\"#7201a8\"],[0.3333333333333333,\"#9c179e\"],[0.4444444444444444,\"#bd3786\"],[0.5555555555555556,\"#d8576b\"],[0.6666666666666666,\"#ed7953\"],[0.7777777777777778,\"#fb9f3a\"],[0.8888888888888888,\"#fdca26\"],[1.0,\"#f0f921\"]]}],\"mesh3d\":[{\"type\":\"mesh3d\",\"colorbar\":{\"outlinewidth\":0,\"ticks\":\"\"}}],\"scatter\":[{\"fillpattern\":{\"fillmode\":\"overlay\",\"size\":10,\"solidity\":0.2},\"type\":\"scatter\"}],\"parcoords\":[{\"type\":\"parcoords\",\"line\":{\"colorbar\":{\"outlinewidth\":0,\"ticks\":\"\"}}}],\"scatterpolargl\":[{\"type\":\"scatterpolargl\",\"marker\":{\"colorbar\":{\"outlinewidth\":0,\"ticks\":\"\"}}}],\"bar\":[{\"error_x\":{\"color\":\"#2a3f5f\"},\"error_y\":{\"color\":\"#2a3f5f\"},\"marker\":{\"line\":{\"color\":\"#E5ECF6\",\"width\":0.5},\"pattern\":{\"fillmode\":\"overlay\",\"size\":10,\"solidity\":0.2}},\"type\":\"bar\"}],\"scattergeo\":[{\"type\":\"scattergeo\",\"marker\":{\"colorbar\":{\"outlinewidth\":0,\"ticks\":\"\"}}}],\"scatterpolar\":[{\"type\":\"scatterpolar\",\"marker\":{\"colorbar\":{\"outlinewidth\":0,\"ticks\":\"\"}}}],\"histogram\":[{\"marker\":{\"pattern\":{\"fillmode\":\"overlay\",\"size\":10,\"solidity\":0.2}},\"type\":\"histogram\"}],\"scattergl\":[{\"type\":\"scattergl\",\"marker\":{\"colorbar\":{\"outlinewidth\":0,\"ticks\":\"\"}}}],\"scatter3d\":[{\"type\":\"scatter3d\",\"line\":{\"colorbar\":{\"outlinewidth\":0,\"ticks\":\"\"}},\"marker\":{\"colorbar\":{\"outlinewidth\":0,\"ticks\":\"\"}}}],\"scattermapbox\":[{\"type\":\"scattermapbox\",\"marker\":{\"colorbar\":{\"outlinewidth\":0,\"ticks\":\"\"}}}],\"scatterternary\":[{\"type\":\"scatterternary\",\"marker\":{\"colorbar\":{\"outlinewidth\":0,\"ticks\":\"\"}}}],\"scattercarpet\":[{\"type\":\"scattercarpet\",\"marker\":{\"colorbar\":{\"outlinewidth\":0,\"ticks\":\"\"}}}],\"carpet\":[{\"aaxis\":{\"endlinecolor\":\"#2a3f5f\",\"gridcolor\":\"white\",\"linecolor\":\"white\",\"minorgridcolor\":\"white\",\"startlinecolor\":\"#2a3f5f\"},\"baxis\":{\"endlinecolor\":\"#2a3f5f\",\"gridcolor\":\"white\",\"linecolor\":\"white\",\"minorgridcolor\":\"white\",\"startlinecolor\":\"#2a3f5f\"},\"type\":\"carpet\"}],\"table\":[{\"cells\":{\"fill\":{\"color\":\"#EBF0F8\"},\"line\":{\"color\":\"white\"}},\"header\":{\"fill\":{\"color\":\"#C8D4E3\"},\"line\":{\"color\":\"white\"}},\"type\":\"table\"}],\"barpolar\":[{\"marker\":{\"line\":{\"color\":\"#E5ECF6\",\"width\":0.5},\"pattern\":{\"fillmode\":\"overlay\",\"size\":10,\"solidity\":0.2}},\"type\":\"barpolar\"}],\"pie\":[{\"automargin\":true,\"type\":\"pie\"}]},\"layout\":{\"autotypenumbers\":\"strict\",\"colorway\":[\"#636efa\",\"#EF553B\",\"#00cc96\",\"#ab63fa\",\"#FFA15A\",\"#19d3f3\",\"#FF6692\",\"#B6E880\",\"#FF97FF\",\"#FECB52\"],\"font\":{\"color\":\"#2a3f5f\"},\"hovermode\":\"closest\",\"hoverlabel\":{\"align\":\"left\"},\"paper_bgcolor\":\"white\",\"plot_bgcolor\":\"#E5ECF6\",\"polar\":{\"bgcolor\":\"#E5ECF6\",\"angularaxis\":{\"gridcolor\":\"white\",\"linecolor\":\"white\",\"ticks\":\"\"},\"radialaxis\":{\"gridcolor\":\"white\",\"linecolor\":\"white\",\"ticks\":\"\"}},\"ternary\":{\"bgcolor\":\"#E5ECF6\",\"aaxis\":{\"gridcolor\":\"white\",\"linecolor\":\"white\",\"ticks\":\"\"},\"baxis\":{\"gridcolor\":\"white\",\"linecolor\":\"white\",\"ticks\":\"\"},\"caxis\":{\"gridcolor\":\"white\",\"linecolor\":\"white\",\"ticks\":\"\"}},\"coloraxis\":{\"colorbar\":{\"outlinewidth\":0,\"ticks\":\"\"}},\"colorscale\":{\"sequential\":[[0.0,\"#0d0887\"],[0.1111111111111111,\"#46039f\"],[0.2222222222222222,\"#7201a8\"],[0.3333333333333333,\"#9c179e\"],[0.4444444444444444,\"#bd3786\"],[0.5555555555555556,\"#d8576b\"],[0.6666666666666666,\"#ed7953\"],[0.7777777777777778,\"#fb9f3a\"],[0.8888888888888888,\"#fdca26\"],[1.0,\"#f0f921\"]],\"sequentialminus\":[[0.0,\"#0d0887\"],[0.1111111111111111,\"#46039f\"],[0.2222222222222222,\"#7201a8\"],[0.3333333333333333,\"#9c179e\"],[0.4444444444444444,\"#bd3786\"],[0.5555555555555556,\"#d8576b\"],[0.6666666666666666,\"#ed7953\"],[0.7777777777777778,\"#fb9f3a\"],[0.8888888888888888,\"#fdca26\"],[1.0,\"#f0f921\"]],\"diverging\":[[0,\"#8e0152\"],[0.1,\"#c51b7d\"],[0.2,\"#de77ae\"],[0.3,\"#f1b6da\"],[0.4,\"#fde0ef\"],[0.5,\"#f7f7f7\"],[0.6,\"#e6f5d0\"],[0.7,\"#b8e186\"],[0.8,\"#7fbc41\"],[0.9,\"#4d9221\"],[1,\"#276419\"]]},\"xaxis\":{\"gridcolor\":\"white\",\"linecolor\":\"white\",\"ticks\":\"\",\"title\":{\"standoff\":15},\"zerolinecolor\":\"white\",\"automargin\":true,\"zerolinewidth\":2},\"yaxis\":{\"gridcolor\":\"white\",\"linecolor\":\"white\",\"ticks\":\"\",\"title\":{\"standoff\":15},\"zerolinecolor\":\"white\",\"automargin\":true,\"zerolinewidth\":2},\"scene\":{\"xaxis\":{\"backgroundcolor\":\"#E5ECF6\",\"gridcolor\":\"white\",\"linecolor\":\"white\",\"showbackground\":true,\"ticks\":\"\",\"zerolinecolor\":\"white\",\"gridwidth\":2},\"yaxis\":{\"backgroundcolor\":\"#E5ECF6\",\"gridcolor\":\"white\",\"linecolor\":\"white\",\"showbackground\":true,\"ticks\":\"\",\"zerolinecolor\":\"white\",\"gridwidth\":2},\"zaxis\":{\"backgroundcolor\":\"#E5ECF6\",\"gridcolor\":\"white\",\"linecolor\":\"white\",\"showbackground\":true,\"ticks\":\"\",\"zerolinecolor\":\"white\",\"gridwidth\":2}},\"shapedefaults\":{\"line\":{\"color\":\"#2a3f5f\"}},\"annotationdefaults\":{\"arrowcolor\":\"#2a3f5f\",\"arrowhead\":0,\"arrowwidth\":1},\"geo\":{\"bgcolor\":\"white\",\"landcolor\":\"#E5ECF6\",\"subunitcolor\":\"white\",\"showland\":true,\"showlakes\":true,\"lakecolor\":\"white\"},\"title\":{\"x\":0.05},\"mapbox\":{\"style\":\"light\"}}},\"xaxis\":{\"anchor\":\"y\",\"domain\":[0.0,1.0],\"scaleanchor\":\"y\",\"constrain\":\"domain\"},\"yaxis\":{\"anchor\":\"x\",\"domain\":[0.0,1.0],\"autorange\":\"reversed\",\"constrain\":\"domain\"},\"coloraxis\":{\"colorscale\":[[0.0,\"#0d0887\"],[0.1111111111111111,\"#46039f\"],[0.2222222222222222,\"#7201a8\"],[0.3333333333333333,\"#9c179e\"],[0.4444444444444444,\"#bd3786\"],[0.5555555555555556,\"#d8576b\"],[0.6666666666666666,\"#ed7953\"],[0.7777777777777778,\"#fb9f3a\"],[0.8888888888888888,\"#fdca26\"],[1.0,\"#f0f921\"]]},\"margin\":{\"t\":60}},                        {\"responsive\": true}                    ).then(function(){\n",
       "                            \n",
       "var gd = document.getElementById('c1b86e73-dfef-4701-bee3-e244de2de701');\n",
       "var x = new MutationObserver(function (mutations, observer) {{\n",
       "        var display = window.getComputedStyle(gd).display;\n",
       "        if (!display || display === 'none') {{\n",
       "            console.log([gd, 'removed!']);\n",
       "            Plotly.purge(gd);\n",
       "            observer.disconnect();\n",
       "        }}\n",
       "}});\n",
       "\n",
       "// Listen for the removal of the full notebook cells\n",
       "var notebookContainer = gd.closest('#notebook-container');\n",
       "if (notebookContainer) {{\n",
       "    x.observe(notebookContainer, {childList: true});\n",
       "}}\n",
       "\n",
       "// Listen for the clearing of the current output cell\n",
       "var outputEl = gd.closest('.output');\n",
       "if (outputEl) {{\n",
       "    x.observe(outputEl, {childList: true});\n",
       "}}\n",
       "\n",
       "                        })                };                });            </script>        </div>"
      ]
     },
     "metadata": {},
     "output_type": "display_data"
    }
   ],
   "source": [
    "px.imshow(corr_matrix)"
   ]
  },
  {
   "cell_type": "code",
   "execution_count": 435,
   "id": "1d7c9662",
   "metadata": {},
   "outputs": [],
   "source": [
    "train, test = train_test_split(df, test_size= .25, random_state=42)"
   ]
  },
  {
   "cell_type": "code",
   "execution_count": 436,
   "id": "56a19c88",
   "metadata": {},
   "outputs": [],
   "source": [
    "X_train = train.drop(columns = 'Win_pct')\n",
    "y_train = train['Win_pct']"
   ]
  },
  {
   "cell_type": "code",
   "execution_count": 437,
   "id": "9c078bdc",
   "metadata": {},
   "outputs": [],
   "source": [
    "X_test = test.drop(columns = 'Win_pct')\n",
    "y_test= test['Win_pct'].copy()"
   ]
  },
  {
   "cell_type": "markdown",
   "id": "89397f57",
   "metadata": {},
   "source": [
    "### Model Building"
   ]
  },
  {
   "cell_type": "code",
   "execution_count": 438,
   "id": "3abc181e",
   "metadata": {},
   "outputs": [],
   "source": [
    "Lr = LinearRegression()\n",
    "CB = CatBoostRegressor(verbose=False)\n",
    "GB = GradientBoostingRegressor()\n",
    "BR = BayesianRidge()\n",
    "EN = ElasticNet()\n",
    "KR = KernelRidge()\n",
    "Rf = RandomForestRegressor()"
   ]
  },
  {
   "cell_type": "code",
   "execution_count": 439,
   "id": "b941ece9",
   "metadata": {},
   "outputs": [
    {
     "data": {
      "text/html": [
       "<style>#sk-container-id-14 {color: black;background-color: white;}#sk-container-id-14 pre{padding: 0;}#sk-container-id-14 div.sk-toggleable {background-color: white;}#sk-container-id-14 label.sk-toggleable__label {cursor: pointer;display: block;width: 100%;margin-bottom: 0;padding: 0.3em;box-sizing: border-box;text-align: center;}#sk-container-id-14 label.sk-toggleable__label-arrow:before {content: \"▸\";float: left;margin-right: 0.25em;color: #696969;}#sk-container-id-14 label.sk-toggleable__label-arrow:hover:before {color: black;}#sk-container-id-14 div.sk-estimator:hover label.sk-toggleable__label-arrow:before {color: black;}#sk-container-id-14 div.sk-toggleable__content {max-height: 0;max-width: 0;overflow: hidden;text-align: left;background-color: #f0f8ff;}#sk-container-id-14 div.sk-toggleable__content pre {margin: 0.2em;color: black;border-radius: 0.25em;background-color: #f0f8ff;}#sk-container-id-14 input.sk-toggleable__control:checked~div.sk-toggleable__content {max-height: 200px;max-width: 100%;overflow: auto;}#sk-container-id-14 input.sk-toggleable__control:checked~label.sk-toggleable__label-arrow:before {content: \"▾\";}#sk-container-id-14 div.sk-estimator input.sk-toggleable__control:checked~label.sk-toggleable__label {background-color: #d4ebff;}#sk-container-id-14 div.sk-label input.sk-toggleable__control:checked~label.sk-toggleable__label {background-color: #d4ebff;}#sk-container-id-14 input.sk-hidden--visually {border: 0;clip: rect(1px 1px 1px 1px);clip: rect(1px, 1px, 1px, 1px);height: 1px;margin: -1px;overflow: hidden;padding: 0;position: absolute;width: 1px;}#sk-container-id-14 div.sk-estimator {font-family: monospace;background-color: #f0f8ff;border: 1px dotted black;border-radius: 0.25em;box-sizing: border-box;margin-bottom: 0.5em;}#sk-container-id-14 div.sk-estimator:hover {background-color: #d4ebff;}#sk-container-id-14 div.sk-parallel-item::after {content: \"\";width: 100%;border-bottom: 1px solid gray;flex-grow: 1;}#sk-container-id-14 div.sk-label:hover label.sk-toggleable__label {background-color: #d4ebff;}#sk-container-id-14 div.sk-serial::before {content: \"\";position: absolute;border-left: 1px solid gray;box-sizing: border-box;top: 0;bottom: 0;left: 50%;z-index: 0;}#sk-container-id-14 div.sk-serial {display: flex;flex-direction: column;align-items: center;background-color: white;padding-right: 0.2em;padding-left: 0.2em;position: relative;}#sk-container-id-14 div.sk-item {position: relative;z-index: 1;}#sk-container-id-14 div.sk-parallel {display: flex;align-items: stretch;justify-content: center;background-color: white;position: relative;}#sk-container-id-14 div.sk-item::before, #sk-container-id-14 div.sk-parallel-item::before {content: \"\";position: absolute;border-left: 1px solid gray;box-sizing: border-box;top: 0;bottom: 0;left: 50%;z-index: -1;}#sk-container-id-14 div.sk-parallel-item {display: flex;flex-direction: column;z-index: 1;position: relative;background-color: white;}#sk-container-id-14 div.sk-parallel-item:first-child::after {align-self: flex-end;width: 50%;}#sk-container-id-14 div.sk-parallel-item:last-child::after {align-self: flex-start;width: 50%;}#sk-container-id-14 div.sk-parallel-item:only-child::after {width: 0;}#sk-container-id-14 div.sk-dashed-wrapped {border: 1px dashed gray;margin: 0 0.4em 0.5em 0.4em;box-sizing: border-box;padding-bottom: 0.4em;background-color: white;}#sk-container-id-14 div.sk-label label {font-family: monospace;font-weight: bold;display: inline-block;line-height: 1.2em;}#sk-container-id-14 div.sk-label-container {text-align: center;}#sk-container-id-14 div.sk-container {/* jupyter's `normalize.less` sets `[hidden] { display: none; }` but bootstrap.min.css set `[hidden] { display: none !important; }` so we also need the `!important` here to be able to override the default hidden behavior on the sphinx rendered scikit-learn.org. See: https://github.com/scikit-learn/scikit-learn/issues/21755 */display: inline-block !important;position: relative;}#sk-container-id-14 div.sk-text-repr-fallback {display: none;}</style><div id=\"sk-container-id-14\" class=\"sk-top-container\"><div class=\"sk-text-repr-fallback\"><pre>LinearRegression()</pre><b>In a Jupyter environment, please rerun this cell to show the HTML representation or trust the notebook. <br />On GitHub, the HTML representation is unable to render, please try loading this page with nbviewer.org.</b></div><div class=\"sk-container\" hidden><div class=\"sk-item\"><div class=\"sk-estimator sk-toggleable\"><input class=\"sk-toggleable__control sk-hidden--visually\" id=\"sk-estimator-id-18\" type=\"checkbox\" checked><label for=\"sk-estimator-id-18\" class=\"sk-toggleable__label sk-toggleable__label-arrow\">LinearRegression</label><div class=\"sk-toggleable__content\"><pre>LinearRegression()</pre></div></div></div></div></div>"
      ],
      "text/plain": [
       "LinearRegression()"
      ]
     },
     "execution_count": 439,
     "metadata": {},
     "output_type": "execute_result"
    }
   ],
   "source": [
    "Rf.fit(X_train, y_train)\n",
    "KR.fit(X_train, y_train)\n",
    "EN.fit(X_train, y_train)\n",
    "BR.fit(X_train, y_train)\n",
    "GB.fit(X_train, y_train)\n",
    "CB.fit(X_train, y_train)\n",
    "Lr.fit(X_train, y_train)"
   ]
  },
  {
   "cell_type": "code",
   "execution_count": 440,
   "id": "4564d102",
   "metadata": {},
   "outputs": [],
   "source": [
    "Rf_scores = -np.mean(cross_val_score(Rf, X_train, y_train, cv = 5, scoring= 'neg_root_mean_squared_error'))\n",
    "KR_scores = -np.mean(cross_val_score(KR, X_train, y_train, cv = 5, scoring= 'neg_root_mean_squared_error'))\n",
    "EN_scores = -np.mean(cross_val_score(EN, X_train, y_train, cv = 5, scoring= 'neg_root_mean_squared_error'))\n",
    "BR_scores = -np.mean(cross_val_score(BR, X_train, y_train, cv = 5, scoring= 'neg_root_mean_squared_error'))\n",
    "GB_scores = -np.mean(cross_val_score(GB, X_train, y_train, cv = 5, scoring= 'neg_root_mean_squared_error'))\n",
    "CB_scores = -np.mean(cross_val_score(CB, X_train, y_train, cv = 5, scoring= 'neg_root_mean_squared_error'))\n",
    "Lr_scores = -np.mean(cross_val_score(Lr, X_train, y_train, cv = 5, scoring= 'neg_root_mean_squared_error'))"
   ]
  },
  {
   "cell_type": "code",
   "execution_count": 441,
   "id": "e99216c6",
   "metadata": {},
   "outputs": [],
   "source": [
    "scores = {'RandomForest': Rf_scores, 'Kernel Ridge' : KR_scores, 'Elastic Net' : EN_scores, 'Bayesian Ridge' : BR_scores, 'Gradient Boosting' : GB_scores,\n",
    "         'Cat Boost' : CB_scores, 'Linear Regression' : Lr_scores}"
   ]
  },
  {
   "cell_type": "code",
   "execution_count": 442,
   "id": "d26fcde9",
   "metadata": {},
   "outputs": [],
   "source": [
    "dscores = pd.DataFrame(data = scores, index=[0])"
   ]
  },
  {
   "cell_type": "code",
   "execution_count": 443,
   "id": "2fe12c24",
   "metadata": {},
   "outputs": [
    {
     "data": {
      "text/html": [
       "<div>\n",
       "<style scoped>\n",
       "    .dataframe tbody tr th:only-of-type {\n",
       "        vertical-align: middle;\n",
       "    }\n",
       "\n",
       "    .dataframe tbody tr th {\n",
       "        vertical-align: top;\n",
       "    }\n",
       "\n",
       "    .dataframe thead th {\n",
       "        text-align: right;\n",
       "    }\n",
       "</style>\n",
       "<table border=\"1\" class=\"dataframe\">\n",
       "  <thead>\n",
       "    <tr style=\"text-align: right;\">\n",
       "      <th></th>\n",
       "      <th>RandomForest</th>\n",
       "      <th>Kernel Ridge</th>\n",
       "      <th>Elastic Net</th>\n",
       "      <th>Bayesian Ridge</th>\n",
       "      <th>Gradient Boosting</th>\n",
       "      <th>Cat Boost</th>\n",
       "      <th>Linear Regression</th>\n",
       "    </tr>\n",
       "  </thead>\n",
       "  <tbody>\n",
       "    <tr>\n",
       "      <th>0</th>\n",
       "      <td>0.056388</td>\n",
       "      <td>0.052328</td>\n",
       "      <td>0.06453</td>\n",
       "      <td>0.053217</td>\n",
       "      <td>0.055592</td>\n",
       "      <td>0.052634</td>\n",
       "      <td>0.054859</td>\n",
       "    </tr>\n",
       "  </tbody>\n",
       "</table>\n",
       "</div>"
      ],
      "text/plain": [
       "   RandomForest  Kernel Ridge  Elastic Net  Bayesian Ridge  Gradient Boosting  \\\n",
       "0      0.056388      0.052328      0.06453        0.053217           0.055592   \n",
       "\n",
       "   Cat Boost  Linear Regression  \n",
       "0   0.052634           0.054859  "
      ]
     },
     "execution_count": 443,
     "metadata": {},
     "output_type": "execute_result"
    }
   ],
   "source": [
    "dscores"
   ]
  },
  {
   "cell_type": "code",
   "execution_count": 444,
   "id": "904c3678",
   "metadata": {},
   "outputs": [
    {
     "data": {
      "text/plain": [
       "<Axes: >"
      ]
     },
     "execution_count": 444,
     "metadata": {},
     "output_type": "execute_result"
    },
    {
     "data": {
      "image/png": "[encoded data removed]",
      "text/plain": [
       "<Figure size 640x480 with 1 Axes>"
      ]
     },
     "metadata": {},
     "output_type": "display_data"
    }
   ],
   "source": [
    "sn.barplot(data = dscores, orient= 'h')"
   ]
  },
  {
   "cell_type": "code",
   "execution_count": 445,
   "id": "fdccafe6",
   "metadata": {},
   "outputs": [
    {
     "data": {
      "text/plain": [
       "<catboost.core.CatBoostRegressor at 0x280247a3f90>"
      ]
     },
     "execution_count": 445,
     "metadata": {},
     "output_type": "execute_result"
    }
   ],
   "source": [
    "CB.fit(X_train, y_train)"
   ]
  },
  {
   "cell_type": "code",
   "execution_count": 446,
   "id": "ffa40471",
   "metadata": {},
   "outputs": [
    {
     "data": {
      "text/html": [
       "<div>\n",
       "<style scoped>\n",
       "    .dataframe tbody tr th:only-of-type {\n",
       "        vertical-align: middle;\n",
       "    }\n",
       "\n",
       "    .dataframe tbody tr th {\n",
       "        vertical-align: top;\n",
       "    }\n",
       "\n",
       "    .dataframe thead th {\n",
       "        text-align: right;\n",
       "    }\n",
       "</style>\n",
       "<table border=\"1\" class=\"dataframe\">\n",
       "  <thead>\n",
       "    <tr style=\"text-align: right;\">\n",
       "      <th></th>\n",
       "      <th>Feature Id</th>\n",
       "      <th>Importances</th>\n",
       "    </tr>\n",
       "  </thead>\n",
       "  <tbody>\n",
       "    <tr>\n",
       "      <th>0</th>\n",
       "      <td>saves</td>\n",
       "      <td>26.823745</td>\n",
       "    </tr>\n",
       "    <tr>\n",
       "      <th>1</th>\n",
       "      <td>strikeout_walk</td>\n",
       "      <td>7.338355</td>\n",
       "    </tr>\n",
       "    <tr>\n",
       "      <th>2</th>\n",
       "      <td>run_average_9</td>\n",
       "      <td>5.181374</td>\n",
       "    </tr>\n",
       "    <tr>\n",
       "      <th>3</th>\n",
       "      <td>team</td>\n",
       "      <td>5.119995</td>\n",
       "    </tr>\n",
       "    <tr>\n",
       "      <th>4</th>\n",
       "      <td>innings_pitched</td>\n",
       "      <td>4.522142</td>\n",
       "    </tr>\n",
       "    <tr>\n",
       "      <th>5</th>\n",
       "      <td>ERA</td>\n",
       "      <td>3.742268</td>\n",
       "    </tr>\n",
       "    <tr>\n",
       "      <th>6</th>\n",
       "      <td>WHIP</td>\n",
       "      <td>3.577959</td>\n",
       "    </tr>\n",
       "    <tr>\n",
       "      <th>7</th>\n",
       "      <td>shutouts</td>\n",
       "      <td>3.126268</td>\n",
       "    </tr>\n",
       "    <tr>\n",
       "      <th>8</th>\n",
       "      <td>average_age</td>\n",
       "      <td>3.080942</td>\n",
       "    </tr>\n",
       "    <tr>\n",
       "      <th>9</th>\n",
       "      <td>home_runs</td>\n",
       "      <td>3.034420</td>\n",
       "    </tr>\n",
       "    <tr>\n",
       "      <th>10</th>\n",
       "      <td>runs_per_game</td>\n",
       "      <td>3.013264</td>\n",
       "    </tr>\n",
       "    <tr>\n",
       "      <th>11</th>\n",
       "      <td>hit_batter</td>\n",
       "      <td>2.914881</td>\n",
       "    </tr>\n",
       "    <tr>\n",
       "      <th>12</th>\n",
       "      <td>intentional_walks</td>\n",
       "      <td>2.754476</td>\n",
       "    </tr>\n",
       "    <tr>\n",
       "      <th>13</th>\n",
       "      <td>hits_9</td>\n",
       "      <td>2.479105</td>\n",
       "    </tr>\n",
       "    <tr>\n",
       "      <th>14</th>\n",
       "      <td>walks</td>\n",
       "      <td>2.398518</td>\n",
       "    </tr>\n",
       "    <tr>\n",
       "      <th>15</th>\n",
       "      <td>runs</td>\n",
       "      <td>2.197769</td>\n",
       "    </tr>\n",
       "    <tr>\n",
       "      <th>16</th>\n",
       "      <td>strikeouts</td>\n",
       "      <td>2.022824</td>\n",
       "    </tr>\n",
       "    <tr>\n",
       "      <th>17</th>\n",
       "      <td>complete_game</td>\n",
       "      <td>1.936410</td>\n",
       "    </tr>\n",
       "    <tr>\n",
       "      <th>18</th>\n",
       "      <td>year</td>\n",
       "      <td>1.928602</td>\n",
       "    </tr>\n",
       "    <tr>\n",
       "      <th>19</th>\n",
       "      <td>hits</td>\n",
       "      <td>1.856623</td>\n",
       "    </tr>\n",
       "    <tr>\n",
       "      <th>20</th>\n",
       "      <td>earned_runs</td>\n",
       "      <td>1.794786</td>\n",
       "    </tr>\n",
       "    <tr>\n",
       "      <th>21</th>\n",
       "      <td>wild_pitches</td>\n",
       "      <td>1.750105</td>\n",
       "    </tr>\n",
       "    <tr>\n",
       "      <th>22</th>\n",
       "      <td>strikeouts_9</td>\n",
       "      <td>1.579952</td>\n",
       "    </tr>\n",
       "    <tr>\n",
       "      <th>23</th>\n",
       "      <td>walks_9</td>\n",
       "      <td>1.411758</td>\n",
       "    </tr>\n",
       "    <tr>\n",
       "      <th>24</th>\n",
       "      <td>homeruns_9</td>\n",
       "      <td>0.929682</td>\n",
       "    </tr>\n",
       "    <tr>\n",
       "      <th>25</th>\n",
       "      <td>batters_faced</td>\n",
       "      <td>0.921611</td>\n",
       "    </tr>\n",
       "    <tr>\n",
       "      <th>26</th>\n",
       "      <td>balks</td>\n",
       "      <td>0.797354</td>\n",
       "    </tr>\n",
       "    <tr>\n",
       "      <th>27</th>\n",
       "      <td>games</td>\n",
       "      <td>0.716539</td>\n",
       "    </tr>\n",
       "    <tr>\n",
       "      <th>28</th>\n",
       "      <td>games_started</td>\n",
       "      <td>0.603372</td>\n",
       "    </tr>\n",
       "    <tr>\n",
       "      <th>29</th>\n",
       "      <td>games_finished</td>\n",
       "      <td>0.444900</td>\n",
       "    </tr>\n",
       "  </tbody>\n",
       "</table>\n",
       "</div>"
      ],
      "text/plain": [
       "           Feature Id  Importances\n",
       "0               saves    26.823745\n",
       "1      strikeout_walk     7.338355\n",
       "2       run_average_9     5.181374\n",
       "3                team     5.119995\n",
       "4     innings_pitched     4.522142\n",
       "5                 ERA     3.742268\n",
       "6                WHIP     3.577959\n",
       "7            shutouts     3.126268\n",
       "8         average_age     3.080942\n",
       "9           home_runs     3.034420\n",
       "10      runs_per_game     3.013264\n",
       "11         hit_batter     2.914881\n",
       "12  intentional_walks     2.754476\n",
       "13             hits_9     2.479105\n",
       "14              walks     2.398518\n",
       "15               runs     2.197769\n",
       "16         strikeouts     2.022824\n",
       "17      complete_game     1.936410\n",
       "18               year     1.928602\n",
       "19               hits     1.856623\n",
       "20        earned_runs     1.794786\n",
       "21       wild_pitches     1.750105\n",
       "22       strikeouts_9     1.579952\n",
       "23            walks_9     1.411758\n",
       "24         homeruns_9     0.929682\n",
       "25      batters_faced     0.921611\n",
       "26              balks     0.797354\n",
       "27              games     0.716539\n",
       "28      games_started     0.603372\n",
       "29     games_finished     0.444900"
      ]
     },
     "execution_count": 446,
     "metadata": {},
     "output_type": "execute_result"
    }
   ],
   "source": [
    "feat_imp = CB.get_feature_importance(prettified=True)\n",
    "feat_imp"
   ]
  },
  {
   "cell_type": "code",
   "execution_count": 447,
   "id": "3c483fe9",
   "metadata": {},
   "outputs": [],
   "source": [
    "best_feat = list(feat_imp['Feature Id'])[:20]"
   ]
  },
  {
   "cell_type": "code",
   "execution_count": 448,
   "id": "aaf82f6b",
   "metadata": {},
   "outputs": [],
   "source": [
    "X_train = X_train[best_feat]"
   ]
  },
  {
   "cell_type": "code",
   "execution_count": 449,
   "id": "7056a3b4",
   "metadata": {},
   "outputs": [
    {
     "data": {
      "text/plain": [
       "<catboost.core.CatBoostRegressor at 0x280247a3f90>"
      ]
     },
     "execution_count": 449,
     "metadata": {},
     "output_type": "execute_result"
    }
   ],
   "source": [
    "CB.fit(X_train, y_train)"
   ]
  },
  {
   "cell_type": "code",
   "execution_count": 450,
   "id": "702cb4a1",
   "metadata": {},
   "outputs": [],
   "source": [
    "scores = -cross_val_score(CB, X_train, y_train, cv = 5, scoring= 'neg_root_mean_squared_error')"
   ]
  },
  {
   "cell_type": "code",
   "execution_count": 451,
   "id": "621436ea",
   "metadata": {},
   "outputs": [
    {
     "data": {
      "text/plain": [
       "array([0.04485224, 0.04667102, 0.04707614, 0.06179576, 0.05684196])"
      ]
     },
     "execution_count": 451,
     "metadata": {},
     "output_type": "execute_result"
    }
   ],
   "source": [
    "scores"
   ]
  },
  {
   "cell_type": "code",
   "execution_count": 452,
   "id": "ef7f9e70",
   "metadata": {},
   "outputs": [],
   "source": [
    "param_grid = {'max_depth': [3,4,5],'n_estimators':[100, 200, 300]}"
   ]
  },
  {
   "cell_type": "code",
   "execution_count": 453,
   "id": "4ebe011b",
   "metadata": {},
   "outputs": [],
   "source": [
    "grid_search = GridSearchCV(CB, param_grid=param_grid, cv = 5)"
   ]
  },
  {
   "cell_type": "code",
   "execution_count": 454,
   "id": "48b2b0bd",
   "metadata": {},
   "outputs": [
    {
     "data": {
      "text/html": [
       "<style>#sk-container-id-15 {color: black;background-color: white;}#sk-container-id-15 pre{padding: 0;}#sk-container-id-15 div.sk-toggleable {background-color: white;}#sk-container-id-15 label.sk-toggleable__label {cursor: pointer;display: block;width: 100%;margin-bottom: 0;padding: 0.3em;box-sizing: border-box;text-align: center;}#sk-container-id-15 label.sk-toggleable__label-arrow:before {content: \"▸\";float: left;margin-right: 0.25em;color: #696969;}#sk-container-id-15 label.sk-toggleable__label-arrow:hover:before {color: black;}#sk-container-id-15 div.sk-estimator:hover label.sk-toggleable__label-arrow:before {color: black;}#sk-container-id-15 div.sk-toggleable__content {max-height: 0;max-width: 0;overflow: hidden;text-align: left;background-color: #f0f8ff;}#sk-container-id-15 div.sk-toggleable__content pre {margin: 0.2em;color: black;border-radius: 0.25em;background-color: #f0f8ff;}#sk-container-id-15 input.sk-toggleable__control:checked~div.sk-toggleable__content {max-height: 200px;max-width: 100%;overflow: auto;}#sk-container-id-15 input.sk-toggleable__control:checked~label.sk-toggleable__label-arrow:before {content: \"▾\";}#sk-container-id-15 div.sk-estimator input.sk-toggleable__control:checked~label.sk-toggleable__label {background-color: #d4ebff;}#sk-container-id-15 div.sk-label input.sk-toggleable__control:checked~label.sk-toggleable__label {background-color: #d4ebff;}#sk-container-id-15 input.sk-hidden--visually {border: 0;clip: rect(1px 1px 1px 1px);clip: rect(1px, 1px, 1px, 1px);height: 1px;margin: -1px;overflow: hidden;padding: 0;position: absolute;width: 1px;}#sk-container-id-15 div.sk-estimator {font-family: monospace;background-color: #f0f8ff;border: 1px dotted black;border-radius: 0.25em;box-sizing: border-box;margin-bottom: 0.5em;}#sk-container-id-15 div.sk-estimator:hover {background-color: #d4ebff;}#sk-container-id-15 div.sk-parallel-item::after {content: \"\";width: 100%;border-bottom: 1px solid gray;flex-grow: 1;}#sk-container-id-15 div.sk-label:hover label.sk-toggleable__label {background-color: #d4ebff;}#sk-container-id-15 div.sk-serial::before {content: \"\";position: absolute;border-left: 1px solid gray;box-sizing: border-box;top: 0;bottom: 0;left: 50%;z-index: 0;}#sk-container-id-15 div.sk-serial {display: flex;flex-direction: column;align-items: center;background-color: white;padding-right: 0.2em;padding-left: 0.2em;position: relative;}#sk-container-id-15 div.sk-item {position: relative;z-index: 1;}#sk-container-id-15 div.sk-parallel {display: flex;align-items: stretch;justify-content: center;background-color: white;position: relative;}#sk-container-id-15 div.sk-item::before, #sk-container-id-15 div.sk-parallel-item::before {content: \"\";position: absolute;border-left: 1px solid gray;box-sizing: border-box;top: 0;bottom: 0;left: 50%;z-index: -1;}#sk-container-id-15 div.sk-parallel-item {display: flex;flex-direction: column;z-index: 1;position: relative;background-color: white;}#sk-container-id-15 div.sk-parallel-item:first-child::after {align-self: flex-end;width: 50%;}#sk-container-id-15 div.sk-parallel-item:last-child::after {align-self: flex-start;width: 50%;}#sk-container-id-15 div.sk-parallel-item:only-child::after {width: 0;}#sk-container-id-15 div.sk-dashed-wrapped {border: 1px dashed gray;margin: 0 0.4em 0.5em 0.4em;box-sizing: border-box;padding-bottom: 0.4em;background-color: white;}#sk-container-id-15 div.sk-label label {font-family: monospace;font-weight: bold;display: inline-block;line-height: 1.2em;}#sk-container-id-15 div.sk-label-container {text-align: center;}#sk-container-id-15 div.sk-container {/* jupyter's `normalize.less` sets `[hidden] { display: none; }` but bootstrap.min.css set `[hidden] { display: none !important; }` so we also need the `!important` here to be able to override the default hidden behavior on the sphinx rendered scikit-learn.org. See: https://github.com/scikit-learn/scikit-learn/issues/21755 */display: inline-block !important;position: relative;}#sk-container-id-15 div.sk-text-repr-fallback {display: none;}</style><div id=\"sk-container-id-15\" class=\"sk-top-container\"><div class=\"sk-text-repr-fallback\"><pre>GridSearchCV(cv=5,\n",
       "             estimator=&lt;catboost.core.CatBoostRegressor object at 0x00000280247A3F90&gt;,\n",
       "             param_grid={&#x27;max_depth&#x27;: [3, 4, 5],\n",
       "                         &#x27;n_estimators&#x27;: [100, 200, 300]})</pre><b>In a Jupyter environment, please rerun this cell to show the HTML representation or trust the notebook. <br />On GitHub, the HTML representation is unable to render, please try loading this page with nbviewer.org.</b></div><div class=\"sk-container\" hidden><div class=\"sk-item sk-dashed-wrapped\"><div class=\"sk-label-container\"><div class=\"sk-label sk-toggleable\"><input class=\"sk-toggleable__control sk-hidden--visually\" id=\"sk-estimator-id-19\" type=\"checkbox\" ><label for=\"sk-estimator-id-19\" class=\"sk-toggleable__label sk-toggleable__label-arrow\">GridSearchCV</label><div class=\"sk-toggleable__content\"><pre>GridSearchCV(cv=5,\n",
       "             estimator=&lt;catboost.core.CatBoostRegressor object at 0x00000280247A3F90&gt;,\n",
       "             param_grid={&#x27;max_depth&#x27;: [3, 4, 5],\n",
       "                         &#x27;n_estimators&#x27;: [100, 200, 300]})</pre></div></div></div><div class=\"sk-parallel\"><div class=\"sk-parallel-item\"><div class=\"sk-item\"><div class=\"sk-label-container\"><div class=\"sk-label sk-toggleable\"><input class=\"sk-toggleable__control sk-hidden--visually\" id=\"sk-estimator-id-20\" type=\"checkbox\" ><label for=\"sk-estimator-id-20\" class=\"sk-toggleable__label sk-toggleable__label-arrow\">estimator: CatBoostRegressor</label><div class=\"sk-toggleable__content\"><pre>&lt;catboost.core.CatBoostRegressor object at 0x00000280247A3F90&gt;</pre></div></div></div><div class=\"sk-serial\"><div class=\"sk-item\"><div class=\"sk-estimator sk-toggleable\"><input class=\"sk-toggleable__control sk-hidden--visually\" id=\"sk-estimator-id-21\" type=\"checkbox\" ><label for=\"sk-estimator-id-21\" class=\"sk-toggleable__label sk-toggleable__label-arrow\">CatBoostRegressor</label><div class=\"sk-toggleable__content\"><pre>&lt;catboost.core.CatBoostRegressor object at 0x00000280247A3F90&gt;</pre></div></div></div></div></div></div></div></div></div></div>"
      ],
      "text/plain": [
       "GridSearchCV(cv=5,\n",
       "             estimator=<catboost.core.CatBoostRegressor object at 0x00000280247A3F90>,\n",
       "             param_grid={'max_depth': [3, 4, 5],\n",
       "                         'n_estimators': [100, 200, 300]})"
      ]
     },
     "execution_count": 454,
     "metadata": {},
     "output_type": "execute_result"
    }
   ],
   "source": [
    "grid_search.fit(X_train, y_train)"
   ]
  },
  {
   "cell_type": "code",
   "execution_count": 455,
   "id": "c9e928a7",
   "metadata": {},
   "outputs": [
    {
     "data": {
      "text/plain": [
       "{'max_depth': 3, 'n_estimators': 100}"
      ]
     },
     "execution_count": 455,
     "metadata": {},
     "output_type": "execute_result"
    }
   ],
   "source": [
    "grid_search.best_params_"
   ]
  },
  {
   "cell_type": "code",
   "execution_count": 456,
   "id": "ac41745f",
   "metadata": {},
   "outputs": [],
   "source": [
    "bestCB = grid_search.best_estimator_"
   ]
  },
  {
   "cell_type": "code",
   "execution_count": 457,
   "id": "883c81e7",
   "metadata": {},
   "outputs": [
    {
     "data": {
      "text/plain": [
       "<catboost.core.CatBoostRegressor at 0x2802532db50>"
      ]
     },
     "execution_count": 457,
     "metadata": {},
     "output_type": "execute_result"
    }
   ],
   "source": [
    "bestCB.fit(X_train, y_train)"
   ]
  },
  {
   "cell_type": "code",
   "execution_count": 458,
   "id": "1fffddf4",
   "metadata": {},
   "outputs": [],
   "source": [
    "scores = -cross_val_score(bestCB, X_train, y_train, cv = 5, scoring= 'neg_root_mean_squared_error')"
   ]
  },
  {
   "cell_type": "code",
   "execution_count": 459,
   "id": "2d187689",
   "metadata": {},
   "outputs": [
    {
     "data": {
      "text/plain": [
       "0.04923351149196649"
      ]
     },
     "execution_count": 459,
     "metadata": {},
     "output_type": "execute_result"
    }
   ],
   "source": [
    "np.mean(scores)"
   ]
  },
  {
   "cell_type": "code",
   "execution_count": 460,
   "id": "00ad6227",
   "metadata": {},
   "outputs": [],
   "source": [
    "final_pred = bestCB.predict(X_test)"
   ]
  },
  {
   "cell_type": "code",
   "execution_count": 461,
   "id": "492b7592",
   "metadata": {},
   "outputs": [
    {
     "data": {
      "text/plain": [
       "0.06264873846685526"
      ]
     },
     "execution_count": 461,
     "metadata": {},
     "output_type": "execute_result"
    }
   ],
   "source": [
    "lin_mse = mean_squared_error(y_test, final_pred)\n",
    "lin_rmse = np.sqrt(lin_mse)\n",
    "lin_rmse"
   ]
  },
  {
   "cell_type": "code",
   "execution_count": 462,
   "id": "d0cce5c6",
   "metadata": {},
   "outputs": [],
   "source": [
    "comparison = {'Predicted Win %' : final_pred, 'Actual Win %': y_test}"
   ]
  },
  {
   "cell_type": "code",
   "execution_count": 463,
   "id": "e1513034",
   "metadata": {},
   "outputs": [],
   "source": [
    "results = pd.DataFrame(comparison)"
   ]
  },
  {
   "cell_type": "code",
   "execution_count": 464,
   "id": "f9adafec",
   "metadata": {},
   "outputs": [
    {
     "data": {
      "text/html": [
       "<div>\n",
       "<style scoped>\n",
       "    .dataframe tbody tr th:only-of-type {\n",
       "        vertical-align: middle;\n",
       "    }\n",
       "\n",
       "    .dataframe tbody tr th {\n",
       "        vertical-align: top;\n",
       "    }\n",
       "\n",
       "    .dataframe thead th {\n",
       "        text-align: right;\n",
       "    }\n",
       "</style>\n",
       "<table border=\"1\" class=\"dataframe\">\n",
       "  <thead>\n",
       "    <tr style=\"text-align: right;\">\n",
       "      <th></th>\n",
       "      <th>Predicted Win %</th>\n",
       "      <th>Actual Win %</th>\n",
       "    </tr>\n",
       "  </thead>\n",
       "  <tbody>\n",
       "    <tr>\n",
       "      <th>213</th>\n",
       "      <td>0.506703</td>\n",
       "      <td>0.404762</td>\n",
       "    </tr>\n",
       "    <tr>\n",
       "      <th>149</th>\n",
       "      <td>0.455163</td>\n",
       "      <td>0.420635</td>\n",
       "    </tr>\n",
       "    <tr>\n",
       "      <th>169</th>\n",
       "      <td>0.523746</td>\n",
       "      <td>0.496241</td>\n",
       "    </tr>\n",
       "    <tr>\n",
       "      <th>250</th>\n",
       "      <td>0.410587</td>\n",
       "      <td>0.563492</td>\n",
       "    </tr>\n",
       "    <tr>\n",
       "      <th>68</th>\n",
       "      <td>0.422828</td>\n",
       "      <td>0.458333</td>\n",
       "    </tr>\n",
       "    <tr>\n",
       "      <th>302</th>\n",
       "      <td>0.485959</td>\n",
       "      <td>0.536364</td>\n",
       "    </tr>\n",
       "    <tr>\n",
       "      <th>176</th>\n",
       "      <td>0.500184</td>\n",
       "      <td>0.541353</td>\n",
       "    </tr>\n",
       "    <tr>\n",
       "      <th>145</th>\n",
       "      <td>0.541951</td>\n",
       "      <td>0.555556</td>\n",
       "    </tr>\n",
       "    <tr>\n",
       "      <th>126</th>\n",
       "      <td>0.450294</td>\n",
       "      <td>0.396825</td>\n",
       "    </tr>\n",
       "    <tr>\n",
       "      <th>114</th>\n",
       "      <td>0.500962</td>\n",
       "      <td>0.533835</td>\n",
       "    </tr>\n",
       "    <tr>\n",
       "      <th>110</th>\n",
       "      <td>0.424593</td>\n",
       "      <td>0.428571</td>\n",
       "    </tr>\n",
       "    <tr>\n",
       "      <th>101</th>\n",
       "      <td>0.467114</td>\n",
       "      <td>0.443609</td>\n",
       "    </tr>\n",
       "    <tr>\n",
       "      <th>272</th>\n",
       "      <td>0.558803</td>\n",
       "      <td>0.541667</td>\n",
       "    </tr>\n",
       "    <tr>\n",
       "      <th>249</th>\n",
       "      <td>0.470733</td>\n",
       "      <td>0.563492</td>\n",
       "    </tr>\n",
       "    <tr>\n",
       "      <th>254</th>\n",
       "      <td>0.422520</td>\n",
       "      <td>0.531746</td>\n",
       "    </tr>\n",
       "    <tr>\n",
       "      <th>45</th>\n",
       "      <td>0.542408</td>\n",
       "      <td>0.479167</td>\n",
       "    </tr>\n",
       "    <tr>\n",
       "      <th>14</th>\n",
       "      <td>0.539221</td>\n",
       "      <td>0.562500</td>\n",
       "    </tr>\n",
       "    <tr>\n",
       "      <th>148</th>\n",
       "      <td>0.488238</td>\n",
       "      <td>0.507937</td>\n",
       "    </tr>\n",
       "    <tr>\n",
       "      <th>150</th>\n",
       "      <td>0.372711</td>\n",
       "      <td>0.388889</td>\n",
       "    </tr>\n",
       "    <tr>\n",
       "      <th>35</th>\n",
       "      <td>0.442759</td>\n",
       "      <td>0.472222</td>\n",
       "    </tr>\n",
       "    <tr>\n",
       "      <th>70</th>\n",
       "      <td>0.481552</td>\n",
       "      <td>0.546875</td>\n",
       "    </tr>\n",
       "    <tr>\n",
       "      <th>247</th>\n",
       "      <td>0.488713</td>\n",
       "      <td>0.341270</td>\n",
       "    </tr>\n",
       "    <tr>\n",
       "      <th>308</th>\n",
       "      <td>0.424588</td>\n",
       "      <td>0.500000</td>\n",
       "    </tr>\n",
       "    <tr>\n",
       "      <th>233</th>\n",
       "      <td>0.538963</td>\n",
       "      <td>0.539683</td>\n",
       "    </tr>\n",
       "    <tr>\n",
       "      <th>244</th>\n",
       "      <td>0.456340</td>\n",
       "      <td>0.492063</td>\n",
       "    </tr>\n",
       "    <tr>\n",
       "      <th>193</th>\n",
       "      <td>0.472320</td>\n",
       "      <td>0.560606</td>\n",
       "    </tr>\n",
       "    <tr>\n",
       "      <th>146</th>\n",
       "      <td>0.568173</td>\n",
       "      <td>0.587302</td>\n",
       "    </tr>\n",
       "    <tr>\n",
       "      <th>11</th>\n",
       "      <td>0.564283</td>\n",
       "      <td>0.548611</td>\n",
       "    </tr>\n",
       "    <tr>\n",
       "      <th>257</th>\n",
       "      <td>0.513346</td>\n",
       "      <td>0.571429</td>\n",
       "    </tr>\n",
       "    <tr>\n",
       "      <th>209</th>\n",
       "      <td>0.554900</td>\n",
       "      <td>0.595238</td>\n",
       "    </tr>\n",
       "    <tr>\n",
       "      <th>171</th>\n",
       "      <td>0.576876</td>\n",
       "      <td>0.616541</td>\n",
       "    </tr>\n",
       "    <tr>\n",
       "      <th>255</th>\n",
       "      <td>0.387964</td>\n",
       "      <td>0.325397</td>\n",
       "    </tr>\n",
       "    <tr>\n",
       "      <th>95</th>\n",
       "      <td>0.471018</td>\n",
       "      <td>0.398496</td>\n",
       "    </tr>\n",
       "    <tr>\n",
       "      <th>28</th>\n",
       "      <td>0.447442</td>\n",
       "      <td>0.402778</td>\n",
       "    </tr>\n",
       "    <tr>\n",
       "      <th>156</th>\n",
       "      <td>0.464081</td>\n",
       "      <td>0.443609</td>\n",
       "    </tr>\n",
       "    <tr>\n",
       "      <th>147</th>\n",
       "      <td>0.548743</td>\n",
       "      <td>0.460317</td>\n",
       "    </tr>\n",
       "    <tr>\n",
       "      <th>182</th>\n",
       "      <td>0.437858</td>\n",
       "      <td>0.458647</td>\n",
       "    </tr>\n",
       "    <tr>\n",
       "      <th>96</th>\n",
       "      <td>0.573292</td>\n",
       "      <td>0.593985</td>\n",
       "    </tr>\n",
       "    <tr>\n",
       "      <th>141</th>\n",
       "      <td>0.494609</td>\n",
       "      <td>0.476190</td>\n",
       "    </tr>\n",
       "    <tr>\n",
       "      <th>87</th>\n",
       "      <td>0.491307</td>\n",
       "      <td>0.398438</td>\n",
       "    </tr>\n",
       "    <tr>\n",
       "      <th>24</th>\n",
       "      <td>0.541420</td>\n",
       "      <td>0.548611</td>\n",
       "    </tr>\n",
       "    <tr>\n",
       "      <th>226</th>\n",
       "      <td>0.509859</td>\n",
       "      <td>0.539683</td>\n",
       "    </tr>\n",
       "    <tr>\n",
       "      <th>273</th>\n",
       "      <td>0.522729</td>\n",
       "      <td>0.591667</td>\n",
       "    </tr>\n",
       "    <tr>\n",
       "      <th>234</th>\n",
       "      <td>0.492904</td>\n",
       "      <td>0.460317</td>\n",
       "    </tr>\n",
       "    <tr>\n",
       "      <th>50</th>\n",
       "      <td>0.590774</td>\n",
       "      <td>0.645833</td>\n",
       "    </tr>\n",
       "    <tr>\n",
       "      <th>167</th>\n",
       "      <td>0.382275</td>\n",
       "      <td>0.293233</td>\n",
       "    </tr>\n",
       "    <tr>\n",
       "      <th>283</th>\n",
       "      <td>0.459138</td>\n",
       "      <td>0.518519</td>\n",
       "    </tr>\n",
       "    <tr>\n",
       "      <th>282</th>\n",
       "      <td>0.347471</td>\n",
       "      <td>0.370370</td>\n",
       "    </tr>\n",
       "    <tr>\n",
       "      <th>25</th>\n",
       "      <td>0.532503</td>\n",
       "      <td>0.493056</td>\n",
       "    </tr>\n",
       "    <tr>\n",
       "      <th>15</th>\n",
       "      <td>0.514821</td>\n",
       "      <td>0.493056</td>\n",
       "    </tr>\n",
       "    <tr>\n",
       "      <th>155</th>\n",
       "      <td>0.505857</td>\n",
       "      <td>0.375940</td>\n",
       "    </tr>\n",
       "    <tr>\n",
       "      <th>306</th>\n",
       "      <td>0.434021</td>\n",
       "      <td>0.510000</td>\n",
       "    </tr>\n",
       "    <tr>\n",
       "      <th>133</th>\n",
       "      <td>0.507967</td>\n",
       "      <td>0.460317</td>\n",
       "    </tr>\n",
       "    <tr>\n",
       "      <th>103</th>\n",
       "      <td>0.448418</td>\n",
       "      <td>0.443609</td>\n",
       "    </tr>\n",
       "    <tr>\n",
       "      <th>40</th>\n",
       "      <td>0.524439</td>\n",
       "      <td>0.479167</td>\n",
       "    </tr>\n",
       "    <tr>\n",
       "      <th>208</th>\n",
       "      <td>0.520956</td>\n",
       "      <td>0.547619</td>\n",
       "    </tr>\n",
       "    <tr>\n",
       "      <th>230</th>\n",
       "      <td>0.442164</td>\n",
       "      <td>0.436508</td>\n",
       "    </tr>\n",
       "    <tr>\n",
       "      <th>138</th>\n",
       "      <td>0.587681</td>\n",
       "      <td>0.500000</td>\n",
       "    </tr>\n",
       "    <tr>\n",
       "      <th>27</th>\n",
       "      <td>0.499313</td>\n",
       "      <td>0.416667</td>\n",
       "    </tr>\n",
       "    <tr>\n",
       "      <th>157</th>\n",
       "      <td>0.429866</td>\n",
       "      <td>0.503759</td>\n",
       "    </tr>\n",
       "    <tr>\n",
       "      <th>177</th>\n",
       "      <td>0.532899</td>\n",
       "      <td>0.451128</td>\n",
       "    </tr>\n",
       "    <tr>\n",
       "      <th>105</th>\n",
       "      <td>0.559355</td>\n",
       "      <td>0.593985</td>\n",
       "    </tr>\n",
       "    <tr>\n",
       "      <th>280</th>\n",
       "      <td>0.470801</td>\n",
       "      <td>0.527778</td>\n",
       "    </tr>\n",
       "    <tr>\n",
       "      <th>184</th>\n",
       "      <td>0.550310</td>\n",
       "      <td>0.684211</td>\n",
       "    </tr>\n",
       "    <tr>\n",
       "      <th>217</th>\n",
       "      <td>0.574615</td>\n",
       "      <td>0.531746</td>\n",
       "    </tr>\n",
       "    <tr>\n",
       "      <th>94</th>\n",
       "      <td>0.499906</td>\n",
       "      <td>0.428571</td>\n",
       "    </tr>\n",
       "    <tr>\n",
       "      <th>143</th>\n",
       "      <td>0.447094</td>\n",
       "      <td>0.373016</td>\n",
       "    </tr>\n",
       "  </tbody>\n",
       "</table>\n",
       "</div>"
      ],
      "text/plain": [
       "     Predicted Win %  Actual Win %\n",
       "213         0.506703      0.404762\n",
       "149         0.455163      0.420635\n",
       "169         0.523746      0.496241\n",
       "250         0.410587      0.563492\n",
       "68          0.422828      0.458333\n",
       "302         0.485959      0.536364\n",
       "176         0.500184      0.541353\n",
       "145         0.541951      0.555556\n",
       "126         0.450294      0.396825\n",
       "114         0.500962      0.533835\n",
       "110         0.424593      0.428571\n",
       "101         0.467114      0.443609\n",
       "272         0.558803      0.541667\n",
       "249         0.470733      0.563492\n",
       "254         0.422520      0.531746\n",
       "45          0.542408      0.479167\n",
       "14          0.539221      0.562500\n",
       "148         0.488238      0.507937\n",
       "150         0.372711      0.388889\n",
       "35          0.442759      0.472222\n",
       "70          0.481552      0.546875\n",
       "247         0.488713      0.341270\n",
       "308         0.424588      0.500000\n",
       "233         0.538963      0.539683\n",
       "244         0.456340      0.492063\n",
       "193         0.472320      0.560606\n",
       "146         0.568173      0.587302\n",
       "11          0.564283      0.548611\n",
       "257         0.513346      0.571429\n",
       "209         0.554900      0.595238\n",
       "171         0.576876      0.616541\n",
       "255         0.387964      0.325397\n",
       "95          0.471018      0.398496\n",
       "28          0.447442      0.402778\n",
       "156         0.464081      0.443609\n",
       "147         0.548743      0.460317\n",
       "182         0.437858      0.458647\n",
       "96          0.573292      0.593985\n",
       "141         0.494609      0.476190\n",
       "87          0.491307      0.398438\n",
       "24          0.541420      0.548611\n",
       "226         0.509859      0.539683\n",
       "273         0.522729      0.591667\n",
       "234         0.492904      0.460317\n",
       "50          0.590774      0.645833\n",
       "167         0.382275      0.293233\n",
       "283         0.459138      0.518519\n",
       "282         0.347471      0.370370\n",
       "25          0.532503      0.493056\n",
       "15          0.514821      0.493056\n",
       "155         0.505857      0.375940\n",
       "306         0.434021      0.510000\n",
       "133         0.507967      0.460317\n",
       "103         0.448418      0.443609\n",
       "40          0.524439      0.479167\n",
       "208         0.520956      0.547619\n",
       "230         0.442164      0.436508\n",
       "138         0.587681      0.500000\n",
       "27          0.499313      0.416667\n",
       "157         0.429866      0.503759\n",
       "177         0.532899      0.451128\n",
       "105         0.559355      0.593985\n",
       "280         0.470801      0.527778\n",
       "184         0.550310      0.684211\n",
       "217         0.574615      0.531746\n",
       "94          0.499906      0.428571\n",
       "143         0.447094      0.373016"
      ]
     },
     "execution_count": 464,
     "metadata": {},
     "output_type": "execute_result"
    }
   ],
   "source": [
    "results"
   ]
  }
 ],
 "metadata": {
  "kernelspec": {
   "display_name": "Python 3 (ipykernel)",
   "language": "python",
   "name": "python3"
  },
  "language_info": {
   "codemirror_mode": {
    "name": "ipython",
    "version": 3
   },
   "file_extension": ".py",
   "mimetype": "text/x-python",
   "name": "python",
   "nbconvert_exporter": "python",
   "pygments_lexer": "ipython3",
   "version": "3.11.4"
  }
 },
 "nbformat": 4,
 "nbformat_minor": 5
}
